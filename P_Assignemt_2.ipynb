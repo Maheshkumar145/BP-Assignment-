{
  "nbformat": 4,
  "nbformat_minor": 0,
  "metadata": {
    "colab": {
      "provenance": [],
      "authorship_tag": "ABX9TyMoRSq89Zw9NOpJPeE11OSf",
      "include_colab_link": true
    },
    "kernelspec": {
      "name": "python3",
      "display_name": "Python 3"
    },
    "language_info": {
      "name": "python"
    }
  },
  "cells": [
    {
      "cell_type": "markdown",
      "metadata": {
        "id": "view-in-github",
        "colab_type": "text"
      },
      "source": [
        "<a href=\"https://colab.research.google.com/github/Maheshkumar145/BP-Assignment-/blob/main/P_Assignemt_2.ipynb\" target=\"_parent\"><img src=\"https://colab.research.google.com/assets/colab-badge.svg\" alt=\"Open In Colab\"/></a>"
      ]
    },
    {
      "cell_type": "markdown",
      "source": [
        "**1.\tWrite a Python program to convert kilometers to miles?**"
      ],
      "metadata": {
        "id": "t6Tw0wsZsA4i"
      }
    },
    {
      "cell_type": "code",
      "execution_count": 3,
      "metadata": {
        "colab": {
          "base_uri": "https://localhost:8080/"
        },
        "id": "mMXrtHVhrCSk",
        "outputId": "a7f67299-9a37-4c20-c8f9-f21bc03ec1b5"
      },
      "outputs": [
        {
          "output_type": "stream",
          "name": "stdout",
          "text": [
            "Enter a number = 4\n",
            "Miles =  2.48548476\n"
          ]
        }
      ],
      "source": [
        "km = int(input(\"Enter a number = \"))\n",
        "miles = 0.62137119 *km\n",
        "print(\"Miles = \",miles)"
      ]
    },
    {
      "cell_type": "markdown",
      "source": [
        "**2.\tWrite a Python program to convert Celsius to Fahrenheit?**"
      ],
      "metadata": {
        "id": "LxZ0R8D7tFHz"
      }
    },
    {
      "cell_type": "code",
      "source": [
        "Celsius = int(input(\"Enter a number = \"))\n",
        "Fahrenheit = 1.8 * Celsius + 32\n",
        "print(\"Fahrenheits\",Fahrenheit)"
      ],
      "metadata": {
        "colab": {
          "base_uri": "https://localhost:8080/"
        },
        "id": "TVR70_d7tLki",
        "outputId": "7d059751-d34d-400e-f626-79a5f813af12"
      },
      "execution_count": 4,
      "outputs": [
        {
          "output_type": "stream",
          "name": "stdout",
          "text": [
            "Enter a number = 30\n",
            "Fahrenheits 86.0\n"
          ]
        }
      ]
    },
    {
      "cell_type": "markdown",
      "source": [
        "**3.\tWrite a Python program to display calendar?**"
      ],
      "metadata": {
        "id": "GYfWwbWyt9xB"
      }
    },
    {
      "cell_type": "code",
      "source": [
        "import calendar\n",
        "yy = 2022\n",
        "print(calendar.calendar(yy))"
      ],
      "metadata": {
        "colab": {
          "base_uri": "https://localhost:8080/"
        },
        "id": "d829A-tDuEEJ",
        "outputId": "f3573f53-349c-4183-942b-0df03037f352"
      },
      "execution_count": 6,
      "outputs": [
        {
          "output_type": "stream",
          "name": "stdout",
          "text": [
            "                                  2022\n",
            "\n",
            "      January                   February                   March\n",
            "Mo Tu We Th Fr Sa Su      Mo Tu We Th Fr Sa Su      Mo Tu We Th Fr Sa Su\n",
            "                1  2          1  2  3  4  5  6          1  2  3  4  5  6\n",
            " 3  4  5  6  7  8  9       7  8  9 10 11 12 13       7  8  9 10 11 12 13\n",
            "10 11 12 13 14 15 16      14 15 16 17 18 19 20      14 15 16 17 18 19 20\n",
            "17 18 19 20 21 22 23      21 22 23 24 25 26 27      21 22 23 24 25 26 27\n",
            "24 25 26 27 28 29 30      28                        28 29 30 31\n",
            "31\n",
            "\n",
            "       April                      May                       June\n",
            "Mo Tu We Th Fr Sa Su      Mo Tu We Th Fr Sa Su      Mo Tu We Th Fr Sa Su\n",
            "             1  2  3                         1             1  2  3  4  5\n",
            " 4  5  6  7  8  9 10       2  3  4  5  6  7  8       6  7  8  9 10 11 12\n",
            "11 12 13 14 15 16 17       9 10 11 12 13 14 15      13 14 15 16 17 18 19\n",
            "18 19 20 21 22 23 24      16 17 18 19 20 21 22      20 21 22 23 24 25 26\n",
            "25 26 27 28 29 30         23 24 25 26 27 28 29      27 28 29 30\n",
            "                          30 31\n",
            "\n",
            "        July                     August                  September\n",
            "Mo Tu We Th Fr Sa Su      Mo Tu We Th Fr Sa Su      Mo Tu We Th Fr Sa Su\n",
            "             1  2  3       1  2  3  4  5  6  7                1  2  3  4\n",
            " 4  5  6  7  8  9 10       8  9 10 11 12 13 14       5  6  7  8  9 10 11\n",
            "11 12 13 14 15 16 17      15 16 17 18 19 20 21      12 13 14 15 16 17 18\n",
            "18 19 20 21 22 23 24      22 23 24 25 26 27 28      19 20 21 22 23 24 25\n",
            "25 26 27 28 29 30 31      29 30 31                  26 27 28 29 30\n",
            "\n",
            "      October                   November                  December\n",
            "Mo Tu We Th Fr Sa Su      Mo Tu We Th Fr Sa Su      Mo Tu We Th Fr Sa Su\n",
            "                1  2          1  2  3  4  5  6                1  2  3  4\n",
            " 3  4  5  6  7  8  9       7  8  9 10 11 12 13       5  6  7  8  9 10 11\n",
            "10 11 12 13 14 15 16      14 15 16 17 18 19 20      12 13 14 15 16 17 18\n",
            "17 18 19 20 21 22 23      21 22 23 24 25 26 27      19 20 21 22 23 24 25\n",
            "24 25 26 27 28 29 30      28 29 30                  26 27 28 29 30 31\n",
            "31\n",
            "\n"
          ]
        }
      ]
    },
    {
      "cell_type": "markdown",
      "source": [
        "**4.\tWrite a Python program to solve quadratic equation?**"
      ],
      "metadata": {
        "id": "wUm25W_NvBpe"
      }
    },
    {
      "cell_type": "code",
      "source": [
        "import cmath\n",
        "a = int(input(\"Enter a number = \"))\n",
        "b = int(input(\"Enter a number = \"))\n",
        "c = int(input(\"Enter a number = \"))\n",
        "d = b ** 2 - 4*a*c\n",
        "root_1 = (-b + cmath.sqrt(d))/(2*a)\n",
        "root_2 = (-b - cmath.sqrt(d))/(2*a)\n",
        "print(\"Roots are\",root_1,root_2)"
      ],
      "metadata": {
        "colab": {
          "base_uri": "https://localhost:8080/"
        },
        "id": "aNbNl3uuvGCh",
        "outputId": "de6b9065-481e-49dd-b322-84c2dcf690bc"
      },
      "execution_count": 13,
      "outputs": [
        {
          "output_type": "stream",
          "name": "stdout",
          "text": [
            "Enter a number = 1\n",
            "Enter a number = 4\n",
            "Enter a number = 2\n",
            "Roots are (-0.5857864376269049+0j) (-3.414213562373095+0j)\n"
          ]
        }
      ]
    },
    {
      "cell_type": "markdown",
      "source": [
        "**5.\tWrite a Python program to swap two variables without temp variable?**"
      ],
      "metadata": {
        "id": "6gYtwFLcxroY"
      }
    },
    {
      "cell_type": "code",
      "source": [
        "X = int(input(\"Enter a number = \"))\n",
        "Y = int(input(\"Enter a number = \"))\n",
        "print(\"Before Swap\",X,Y)\n",
        "X,Y = Y,X\n",
        "print(\"After Swap\",X,Y)"
      ],
      "metadata": {
        "colab": {
          "base_uri": "https://localhost:8080/"
        },
        "id": "R6L9wFeyxznv",
        "outputId": "965a3cf0-ef1e-4b50-9375-cc9fd66acc2d"
      },
      "execution_count": 14,
      "outputs": [
        {
          "output_type": "stream",
          "name": "stdout",
          "text": [
            "Enter a number = 10\n",
            "Enter a number = 20\n",
            "Before Swap 10 20\n",
            "After Swap 20 10\n"
          ]
        }
      ]
    }
  ]
}