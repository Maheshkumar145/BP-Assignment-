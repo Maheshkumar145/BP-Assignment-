{
  "nbformat": 4,
  "nbformat_minor": 0,
  "metadata": {
    "colab": {
      "provenance": [],
      "authorship_tag": "ABX9TyPpKOFn5ZAP8Wys25JpurqJ",
      "include_colab_link": true
    },
    "kernelspec": {
      "name": "python3",
      "display_name": "Python 3"
    },
    "language_info": {
      "name": "python"
    }
  },
  "cells": [
    {
      "cell_type": "markdown",
      "metadata": {
        "id": "view-in-github",
        "colab_type": "text"
      },
      "source": [
        "<a href=\"https://colab.research.google.com/github/Maheshkumar145/BP-Assignment-/blob/main/P_Assignemt_5.ipynb\" target=\"_parent\"><img src=\"https://colab.research.google.com/assets/colab-badge.svg\" alt=\"Open In Colab\"/></a>"
      ]
    },
    {
      "cell_type": "markdown",
      "source": [
        "**1. Write a Python Program to Find LCM?**"
      ],
      "metadata": {
        "id": "WDBQf2ha9VAv"
      }
    },
    {
      "cell_type": "code",
      "execution_count": null,
      "metadata": {
        "colab": {
          "base_uri": "https://localhost:8080/"
        },
        "id": "3cshCkkZ8WQc",
        "outputId": "d97c7813-e73d-4a7d-ab79-fb2939822ef3"
      },
      "outputs": [
        {
          "output_type": "stream",
          "name": "stdout",
          "text": [
            "Enter the first number:60\n",
            "Enter the second number:30\n",
            "LCM is 60\n"
          ]
        }
      ],
      "source": [
        "a=int(input(\"Enter the first number:\"))\n",
        "b=int(input(\"Enter the second number:\"))\n",
        "if a<b :\n",
        "  L = a\n",
        "else:\n",
        "  L = b\n",
        "while(1):\n",
        "  if(L%a == 0 and L%b == 0):\n",
        "    print(\"LCM is\",L)\n",
        "    break\n",
        "  L = L + 1"
      ]
    },
    {
      "cell_type": "markdown",
      "source": [
        "**2.\tWrite a Python Program to Find HCF?**"
      ],
      "metadata": {
        "id": "fn13fZg3EgKw"
      }
    },
    {
      "cell_type": "code",
      "source": [
        "a=int(input(\"Enter the first number:\"))\n",
        "b=int(input(\"Enter the second number:\"))\n",
        "HCF = 1\n",
        "if a<b :\n",
        "  H = a\n",
        "else:\n",
        "  H = b\n",
        "#print(H)\n",
        "for i in range (1,H+1):\n",
        "  if(a%i==0 and b%i == 0):\n",
        "    HCF = i\n",
        "print(\"HCF is\",HCF)"
      ],
      "metadata": {
        "colab": {
          "base_uri": "https://localhost:8080/"
        },
        "id": "07y4_styEico",
        "outputId": "aab55914-6732-40cc-b5ce-b28f860714e3"
      },
      "execution_count": null,
      "outputs": [
        {
          "output_type": "stream",
          "name": "stdout",
          "text": [
            "Enter the first number:64\n",
            "Enter the second number:70\n",
            "HCF is 2\n"
          ]
        }
      ]
    },
    {
      "cell_type": "markdown",
      "source": [
        "**3.\tWrite a Python Program to Convert Decimal to Binary, Octal and Hexadecimal?**"
      ],
      "metadata": {
        "id": "Wiagut1HMkkG"
      }
    },
    {
      "cell_type": "code",
      "source": [
        "N = int(input(\"Enter a number: \"))\n",
        "print(\"The decimal value of\",N,\"is:\")\n",
        "print(\"The decimal value of\",N,\"is:\",bin(N),\"in binary.\")\n",
        "print(\"The decimal value of\",N,\"is:\",oct(N),\"in octal.\")\n",
        "print(\"The decimal value of\",N,\"is:\",hex(N),\"in hexadecimal.\")"
      ],
      "metadata": {
        "colab": {
          "base_uri": "https://localhost:8080/"
        },
        "id": "CwXUseoENnPE",
        "outputId": "1d819bf2-286a-46b4-d7f0-52b25e09c460"
      },
      "execution_count": null,
      "outputs": [
        {
          "output_type": "stream",
          "name": "stdout",
          "text": [
            "Enter a number: 50\n",
            "The decimal value of 50 is:\n",
            "The decimal value of 50 is: 0b110010 in binary.\n",
            "The decimal value of 50 is: 0o62 in octal.\n",
            "The decimal value of 50 is: 0x32 in hexadecimal.\n"
          ]
        }
      ]
    },
    {
      "cell_type": "markdown",
      "source": [
        "**4.\tWrite a Python Program To Find ASCII value of a character?**"
      ],
      "metadata": {
        "id": "uNdpP0mJQP1M"
      }
    },
    {
      "cell_type": "code",
      "source": [
        "X =\"m\"\n",
        "Y =\"a\"\n",
        "Z =\"h\"\n",
        "U =\"i\"\n",
        "print(\"The ASCII value of '\" + X + \"' is\", ord(X))\n",
        "print(\"The ASCII value of '\" + Y + \"' is\", ord(Y))\n",
        "print(\"The ASCII value of '\" + Z + \"' is\", ord(Z))\n",
        "print(\"The ASCII value of '\" + U + \"' is\", ord(U))"
      ],
      "metadata": {
        "id": "FrolOasNQPYG",
        "colab": {
          "base_uri": "https://localhost:8080/"
        },
        "outputId": "90321fc3-3e36-4dd4-ccaa-a1a9eeb4398e"
      },
      "execution_count": 39,
      "outputs": [
        {
          "output_type": "stream",
          "name": "stdout",
          "text": [
            "The ASCII value of 'm' is 109\n",
            "The ASCII value of 'a' is 97\n",
            "The ASCII value of 'h' is 104\n",
            "The ASCII value of 'i' is 105\n"
          ]
        }
      ]
    },
    {
      "cell_type": "markdown",
      "source": [
        "**5.\tWrite a Python Program to Make a Simple Calculator with 4 basic mathematical operations?**"
      ],
      "metadata": {
        "id": "BlUtk__HSSQE"
      }
    },
    {
      "cell_type": "code",
      "source": [
        "def add(P, Q):      \n",
        "   return P + Q   \n",
        "def subtract(P, Q):      \n",
        "   return P - Q   \n",
        "def multiply(P, Q):     \n",
        "   return P * Q   \n",
        "def divide(P, Q):      \n",
        "   return P / Q       \n",
        "print (\"Please select the operation.\")    \n",
        "print (\"a. Add\")    \n",
        "print (\"b. Subtract\")    \n",
        "print (\"c. Multiply\")    \n",
        "print (\"d. Divide\")    \n",
        "    \n",
        "choice = input(\"Please enter choice (a/ b/ c/ d): \")    \n",
        "    \n",
        "num_1 = int (input (\"Please enter the first number: \"))    \n",
        "num_2 = int (input (\"Please enter the second number: \"))    \n",
        "    \n",
        "if choice == 'a':    \n",
        "   print (num_1, \" + \", num_2, \" = \", add(num_1, num_2))    \n",
        "    \n",
        "elif choice == 'b':    \n",
        "   print (num_1, \" - \", num_2, \" = \", subtract(num_1, num_2))    \n",
        "    \n",
        "elif choice == 'c':    \n",
        "   print (num_1, \" * \", num_2, \" = \", multiply(num_1, num_2))    \n",
        "elif choice == 'd':    \n",
        "   print (num_1, \" / \", num_2, \" = \", divide(num_1, num_2))    \n",
        "else:    \n",
        "   print (\"This is an invalid input\")  "
      ],
      "metadata": {
        "colab": {
          "base_uri": "https://localhost:8080/"
        },
        "id": "sQG6tCduSzNr",
        "outputId": "cb36bae1-c2e1-4148-a909-9caa602c9c76"
      },
      "execution_count": 40,
      "outputs": [
        {
          "output_type": "stream",
          "name": "stdout",
          "text": [
            "Please select the operation.\n",
            "a. Add\n",
            "b. Subtract\n",
            "c. Multiply\n",
            "d. Divide\n",
            "Please enter choice (a/ b/ c/ d): b\n",
            "Please enter the first number: 3\n",
            "Please enter the second number: 9\n",
            "3  -  9  =  -6\n"
          ]
        }
      ]
    }
  ]
}
