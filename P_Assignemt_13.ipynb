{
  "nbformat": 4,
  "nbformat_minor": 0,
  "metadata": {
    "colab": {
      "provenance": [],
      "authorship_tag": "ABX9TyNAFVMElBbjVgkZUWb9OSJQ",
      "include_colab_link": true
    },
    "kernelspec": {
      "name": "python3",
      "display_name": "Python 3"
    },
    "language_info": {
      "name": "python"
    }
  },
  "cells": [
    {
      "cell_type": "markdown",
      "metadata": {
        "id": "view-in-github",
        "colab_type": "text"
      },
      "source": [
        "<a href=\"https://colab.research.google.com/github/Maheshkumar145/BP-Assignment-/blob/main/P_Assignemt_13.ipynb\" target=\"_parent\"><img src=\"https://colab.research.google.com/assets/colab-badge.svg\" alt=\"Open In Colab\"/></a>"
      ]
    },
    {
      "cell_type": "markdown",
      "source": [
        "**Question 1:**\n",
        "\n",
        "**Write a program that calculates and prints the value according to the given formula:**Q = Square root of [(2 * C * D)/H]\n",
        "\n",
        "**Following are the fixed values of C and H:C is 50. H is 30.**\n",
        "\n",
        "**D is the variable whose values should be input to your program in a comma-separated sequence.**\n",
        "\n",
        "**Example**\n",
        "\n",
        "**Let us assume the following comma separated input sequence is given to the program: 100,150,180**\n",
        "\n",
        "**The output of the program should be: 18,22,24**"
      ],
      "metadata": {
        "id": "p77liota8uc7"
      }
    },
    {
      "cell_type": "code",
      "source": [
        "import math\n",
        "D = input(\"Enter values :\")\n",
        "D = D.split(',')\n",
        "result_list = []\n",
        "for i in set(list(D)):\n",
        "  Q = math.sqrt((2 * 50 * int(i))/30)\n",
        "  result_list.append(Q)\n",
        "print(result_list)"
      ],
      "metadata": {
        "colab": {
          "base_uri": "https://localhost:8080/"
        },
        "id": "s9RyNsB99UCK",
        "outputId": "7e745371-4b4d-4a49-8bfc-e44474d7501d"
      },
      "execution_count": null,
      "outputs": [
        {
          "output_type": "stream",
          "name": "stdout",
          "text": [
            "Enter values :100,150,180\n",
            "[22.360679774997898, 24.49489742783178, 18.257418583505537]\n"
          ]
        }
      ]
    },
    {
      "cell_type": "markdown",
      "source": [
        "**Question 2:**\n",
        "**Write a program which takes 2 digits, X,Y as input and generates a 2-dimensional array. The element value in the i-th row and j-th column of the array should be** i*j.\n",
        "\n",
        "**Example:Suppose the following inputs are given to the program:3,5**\n",
        "\n",
        "**Then, the output of the program should be:**\n",
        "**[[0, 0, 0, 0, 0], [0, 1, 2, 3, 4], [0, 2, 4, 6, 8]]** "
      ],
      "metadata": {
        "id": "C1Q1cliZ8saL"
      }
    },
    {
      "cell_type": "code",
      "source": [
        "rows, cols = (3, 5)\n",
        "arr = [[0]*cols]*rows\n",
        "print(arr)"
      ],
      "metadata": {
        "colab": {
          "base_uri": "https://localhost:8080/"
        },
        "id": "9mviLahzFS7V",
        "outputId": "ae21a74c-2b9e-4fa4-f488-f77421360a8b"
      },
      "execution_count": null,
      "outputs": [
        {
          "output_type": "stream",
          "name": "stdout",
          "text": [
            "[[0, 0, 0, 0, 0], [0, 0, 0, 0, 0], [0, 0, 0, 0, 0]]\n"
          ]
        }
      ]
    },
    {
      "cell_type": "markdown",
      "source": [
        "\n",
        "**Question 3:**\n",
        "**Write a program that accepts a comma separated sequence of words as input and prints the words in a comma-separated sequence after sorting them alphabetically.**\n",
        "\n",
        "**Suppose the following input is supplied to the program:**\n",
        "without,hello,bag,world\n",
        "\n",
        "**Then, the output should be:**\n",
        "bag,hello,without,world"
      ],
      "metadata": {
        "id": "7DC0QmHp8qWb"
      }
    },
    {
      "cell_type": "code",
      "source": [
        "words = input(\"Enter words :\")\n",
        "wordss = words.split(',')\n",
        "wordss.sort()\n",
        "print((',').join(wordss))"
      ],
      "metadata": {
        "colab": {
          "base_uri": "https://localhost:8080/"
        },
        "id": "8yJ3A1fQHqus",
        "outputId": "c5e188d1-d661-4249-a176-b6d82b0b5815"
      },
      "execution_count": null,
      "outputs": [
        {
          "output_type": "stream",
          "name": "stdout",
          "text": [
            "Enter words :without,hello,bag,world\n",
            "bag,hello,without,world\n"
          ]
        }
      ]
    },
    {
      "cell_type": "markdown",
      "source": [
        "**Question 4:**\n",
        "**Write a program that accepts a sequence of whitespace separated words as input and prints the words after removing all duplicate words and sorting them alphanumerically.**\n",
        "\n",
        "**Suppose the following input is supplied to the program:**\n",
        "\n",
        "hello world and practice makes perfect and hello world again\n",
        "\n",
        "**Then, the output should be:**\n",
        "\n",
        "again and hello makes perfect practice world\n",
        "\n"
      ],
      "metadata": {
        "id": "EWHGfHHW8nds"
      }
    },
    {
      "cell_type": "code",
      "source": [
        "s =input()\n",
        "words = [word for word in s.split(\" \")]\n",
        "print (\" \".join(sorted(set(words))))"
      ],
      "metadata": {
        "colab": {
          "base_uri": "https://localhost:8080/"
        },
        "id": "FA7LfCt96ZoQ",
        "outputId": "c080f8e6-9882-4d27-b0aa-bc1ff44b3a13"
      },
      "execution_count": 10,
      "outputs": [
        {
          "output_type": "stream",
          "name": "stdout",
          "text": [
            "hello world and practice makes perfect and hello world again\n",
            "again and hello makes perfect practice world\n"
          ]
        }
      ]
    },
    {
      "cell_type": "markdown",
      "source": [
        "**Question 5:\n",
        "Write a program that accepts a sentence and calculate the number of letters and digits.**\n",
        "\n",
        "**Suppose the following input is supplied to the program:**\n",
        "\n",
        "hello world! 123\n",
        "\n",
        "**Then, the output should be:**\n",
        "\n",
        "LETTERS 10\n",
        "\n",
        "DIGITS 3"
      ],
      "metadata": {
        "id": "UK2nWpgr8lXb"
      }
    },
    {
      "cell_type": "code",
      "source": [
        "s= input()\n",
        "l = 0\n",
        "d = 0\n",
        "for i in s:\n",
        "  if i.isalpha():\n",
        "    l = l+1\n",
        "  elif i.isdigit():\n",
        "    d = d+1\n",
        "print(\"LETTERS : \",l)\n",
        "print(\"DIGITS : \",d)"
      ],
      "metadata": {
        "colab": {
          "base_uri": "https://localhost:8080/"
        },
        "id": "QJdKCwYEB1fX",
        "outputId": "ddfefa1e-339b-4088-97d9-b639f7619831"
      },
      "execution_count": 11,
      "outputs": [
        {
          "output_type": "stream",
          "name": "stdout",
          "text": [
            "hello world! 123\n",
            "LETTERS :  10\n",
            "DIGITS :  3\n"
          ]
        }
      ]
    },
    {
      "cell_type": "markdown",
      "source": [
        "**Question 6:**\n",
        "**A website requires the users to input username and password to register. Write a program to check the validity of password input by users**\n",
        "\n",
        "**Following are the criteria for checking the password:**\n",
        "\n",
        "1. At least 1 letter between [a-z]\n",
        "\n",
        "2. At least 1 number between [0-9]\n",
        "\n",
        "1. At least 1 letter between [A-Z]\n",
        "\n",
        "3. At least 1 character from [$#@]\n",
        "\n",
        "4. Minimum length of transaction password: 6\n",
        "\n",
        "5. Maximum length of transaction password: 12\n",
        "\n",
        "**Your program should accept a sequence of comma separated passwords and will check them according to the above criteria. Passwords that match the criteria are to be printed, each separated by a comma.**\n",
        "\n",
        "**Example**\n",
        "\n",
        "**If the following passwords are given as input to the program:**\n",
        "\n",
        "ABd1234@1,a F1#,2w3E*,2We3345\n",
        "\n",
        "**Then, the output of the program should be:**\n",
        "\n",
        "ABd1234@1"
      ],
      "metadata": {
        "id": "Zb3wgkaI8iLb"
      }
    },
    {
      "cell_type": "code",
      "source": [
        "user_input = input()\n",
        "passwords = user_input.split(\",\")\n",
        "special_chars = [\"*\",\"#\",\"@\"]\n",
        "valid = []\n",
        "\n",
        "for x in passwords:\n",
        "    if(len(x) > 12 or len(x) < 6):\n",
        "        continue\n",
        "    if (x.isupper() or x.islower()): \n",
        "        continue\n",
        "    has_number = any(char.isdigit() for char in x)\n",
        "    if(not has_number):\n",
        "        continue\n",
        "    has_char = any(char in special_chars for char in x)\n",
        "    if(not has_char):\n",
        "        continue\n",
        "    valid.append(x)\n",
        "print(valid)"
      ],
      "metadata": {
        "colab": {
          "base_uri": "https://localhost:8080/"
        },
        "id": "oSMIbV9ED4-n",
        "outputId": "74c854b6-2ba5-4b51-edfa-bdf67cfa5ca4"
      },
      "execution_count": 13,
      "outputs": [
        {
          "output_type": "stream",
          "name": "stdout",
          "text": [
            "ABd1234@1,a F1#,2w3E*,2We3345\n",
            "['ABd1234@1']\n"
          ]
        }
      ]
    }
  ]
}