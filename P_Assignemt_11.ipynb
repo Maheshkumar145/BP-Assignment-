{
  "nbformat": 4,
  "nbformat_minor": 0,
  "metadata": {
    "colab": {
      "provenance": [],
      "authorship_tag": "ABX9TyPchhzHxA9WxLCkf8qJlgAM",
      "include_colab_link": true
    },
    "kernelspec": {
      "name": "python3",
      "display_name": "Python 3"
    },
    "language_info": {
      "name": "python"
    }
  },
  "cells": [
    {
      "cell_type": "markdown",
      "metadata": {
        "id": "view-in-github",
        "colab_type": "text"
      },
      "source": [
        "<a href=\"https://colab.research.google.com/github/Maheshkumar145/BP-Assignment-/blob/main/P_Assignemt_11.ipynb\" target=\"_parent\"><img src=\"https://colab.research.google.com/assets/colab-badge.svg\" alt=\"Open In Colab\"/></a>"
      ]
    },
    {
      "cell_type": "markdown",
      "source": [
        "**1.\tWrite a Python program to find words which are greater than given length k?**"
      ],
      "metadata": {
        "id": "VNVEBI2DPC-4"
      }
    },
    {
      "cell_type": "code",
      "source": [
        "k=int(input(\"length of words to be =\"))\n",
        "strng =input(\"Enter a string :\")\n",
        "word =strng.split(\" \")\n",
        "print(word)\n",
        "for x in word:\n",
        "  if len(x)>k:\n",
        "    print(x)"
      ],
      "metadata": {
        "colab": {
          "base_uri": "https://localhost:8080/"
        },
        "id": "Cc5gjwSSvVQH",
        "outputId": "6abfce71-7d0a-477a-dc28-7ba4882cd70c"
      },
      "execution_count": null,
      "outputs": [
        {
          "output_type": "stream",
          "name": "stdout",
          "text": [
            "length of words to be =4\n",
            "Enter a string :Hordes of rodents invade Puri's Jagannath Mandir\n",
            "['Hordes', 'of', 'rodents', 'invade', \"Puri's\", 'Jagannath', 'Mandir']\n",
            "Hordes\n",
            "rodents\n",
            "invade\n",
            "Puri's\n",
            "Jagannath\n",
            "Mandir\n"
          ]
        }
      ]
    },
    {
      "cell_type": "markdown",
      "source": [
        "**2.\tWrite a Python program for removing i-th character from a string?**"
      ],
      "metadata": {
        "id": "0PB_pPNqPIpW"
      }
    },
    {
      "cell_type": "code",
      "source": [
        "Str =  input('Enter the string : ')\n",
        "i = int(input('character index: '))\n",
        "newStr = \"\"\n",
        "for index in range(len(Str)):\n",
        "\tif index != i:\n",
        "\t\tnewStr = newStr + Str[index]\n",
        "print(\"String formed by removing i'th character : \" + newStr)"
      ],
      "metadata": {
        "colab": {
          "base_uri": "https://localhost:8080/"
        },
        "id": "vwFEmz_h1iYn",
        "outputId": "c4391eae-e286-4a34-d335-436b2c911f52"
      },
      "execution_count": null,
      "outputs": [
        {
          "output_type": "stream",
          "name": "stdout",
          "text": [
            "Enter the string : Hordes of rodents invade Puri's Jagannath Mandir\n",
            "character index: 3\n",
            "String formed by removing i'th character : Hores of rodents invade Puri's Jagannath Mandir\n"
          ]
        }
      ]
    },
    {
      "cell_type": "markdown",
      "source": [
        "**3.\tWrite a Python program to split and join a string?**"
      ],
      "metadata": {
        "id": "oj71qak6PIhP"
      }
    },
    {
      "cell_type": "code",
      "source": [
        "Str =  input('Enter the string : ')\n",
        "new = Str.split(\" \")\n",
        "print(new)\n",
        "print(\"+\".join(new))"
      ],
      "metadata": {
        "colab": {
          "base_uri": "https://localhost:8080/"
        },
        "id": "TzKSS0um6l0J",
        "outputId": "85b651cc-0a3b-466d-ff54-695dac3b665c"
      },
      "execution_count": null,
      "outputs": [
        {
          "output_type": "stream",
          "name": "stdout",
          "text": [
            "Enter the string : Write a Python program to split and join a string\n",
            "['Write', 'a', 'Python', 'program', 'to', 'split', 'and', 'join', 'a', 'string']\n",
            "Write+a+Python+program+to+split+and+join+a+string\n"
          ]
        }
      ]
    },
    {
      "cell_type": "markdown",
      "source": [
        "**4.\tWrite a Python to check if a given string is binary string or not?**"
      ],
      "metadata": {
        "id": "vko6RNhjPIZ-"
      }
    },
    {
      "cell_type": "code",
      "source": [
        "Str =  input('Enter a string : ')\n",
        "strSet = set(Str)\n",
        "binValues = {'0', '1'} \n",
        "if binValues == strSet or strSet == {'0'} or strSet == {'1'}:\n",
        "    print(\"The String is binary string\")\n",
        "else :\n",
        "    print(\"The String is not a binary string\")"
      ],
      "metadata": {
        "colab": {
          "base_uri": "https://localhost:8080/"
        },
        "id": "KrHXJpnX_kCq",
        "outputId": "17f18c59-1b2a-4ee1-88ba-71ec4da07ca3"
      },
      "execution_count": null,
      "outputs": [
        {
          "output_type": "stream",
          "name": "stdout",
          "text": [
            "Enter a string : 12012220111\n",
            "The String is not a binary string\n"
          ]
        }
      ]
    },
    {
      "cell_type": "markdown",
      "source": [
        "**5.\tWrite a Python program to find uncommon words from two Strings?**"
      ],
      "metadata": {
        "id": "lQZQ0tZVPIPn"
      }
    },
    {
      "cell_type": "code",
      "source": [
        "strng_1 =input(\"Enter a string :\")\n",
        "strng_2 =input(\"Enter a string :\")\n",
        "word1 =strng_1.split(\" \")\n",
        "word2 =strng_2.split(\" \")\n",
        "#print(word1)\n",
        "#print(word2)\n",
        "newStrng =\"\"\n",
        "for words in word1:\n",
        "  if words not in word2:\n",
        "    newStrng = newStrng+\", \"+words\n",
        "for words in word2:\n",
        "  if words not in word1:\n",
        "    newStrng = newStrng+\", \"+words\n",
        "print(\"Uncommon words :\",newStrng)"
      ],
      "metadata": {
        "colab": {
          "base_uri": "https://localhost:8080/"
        },
        "id": "zwPhEgaZOVZZ",
        "outputId": "298c821c-1cff-4674-aed8-24cf8831d346"
      },
      "execution_count": 7,
      "outputs": [
        {
          "output_type": "stream",
          "name": "stdout",
          "text": [
            "Enter a string :Write a Python to find all duplicate characters in string\n",
            "Enter a string :Write a Python Program to check if a string contains any special character\n",
            "Uncommon words : , find, all, duplicate, characters, in, Program, check, if, contains, any, special, character\n"
          ]
        }
      ]
    },
    {
      "cell_type": "markdown",
      "source": [
        "**6.\tWrite a Python to find all duplicate characters in string?**"
      ],
      "metadata": {
        "id": "qCOCCwduPIEe"
      }
    },
    {
      "cell_type": "code",
      "source": [
        "string = input(\"Enter a string :\")\n",
        "for s in range(0, len(string)): \n",
        "   count = 1; \n",
        "   for t in range(s+1, len(string)):\n",
        "      if(string[s] == string[t] and string[s] != ' '): \n",
        "         count = count + 1;  \n",
        "   string = string[:t] + '0' + string[t+1:]; \n",
        "   if(count > 1 and string[s] != '0'): \n",
        "      print(string[s],\" - \",count)\n",
        "#print(\"All the duplicate characters in the string are: \",string[s],\" - \",count)"
      ],
      "metadata": {
        "colab": {
          "base_uri": "https://localhost:8080/"
        },
        "id": "1LVldPL1TPDi",
        "outputId": "738c8dd7-67dd-4e61-96a2-773d86900062"
      },
      "execution_count": 22,
      "outputs": [
        {
          "output_type": "stream",
          "name": "stdout",
          "text": [
            "Enter a string :Write a Python to find all duplicate characters in string\n",
            "r  -  4\n",
            "i  -  5\n",
            "t  -  6\n",
            "e  -  3\n",
            "a  -  5\n",
            "t  -  5\n",
            "h  -  2\n",
            "o  -  2\n",
            "n  -  4\n",
            "t  -  4\n",
            "i  -  4\n",
            "n  -  3\n",
            "d  -  2\n",
            "a  -  4\n",
            "l  -  3\n",
            "l  -  2\n",
            "i  -  3\n",
            "c  -  3\n",
            "a  -  3\n",
            "t  -  3\n",
            "e  -  2\n",
            "c  -  2\n",
            "a  -  2\n",
            "r  -  3\n",
            "t  -  2\n",
            "r  -  2\n",
            "s  -  2\n",
            "i  -  2\n",
            "n  -  2\n"
          ]
        }
      ]
    },
    {
      "cell_type": "markdown",
      "source": [
        "**7.\tWrite a Python Program to check if a string contains any special character?**"
      ],
      "metadata": {
        "id": "TQOo8GWVPH5c"
      }
    },
    {
      "cell_type": "code",
      "source": [
        "import re\n",
        "string = input(\"Enter a string :\")\n",
        "if(bool(re.match('^[a-zA-Z0-9]*$',string)) == True):\n",
        "  print('String does not contain any special characters.')\n",
        "else:\n",
        "  print('The string contains special characters.')"
      ],
      "metadata": {
        "colab": {
          "base_uri": "https://localhost:8080/"
        },
        "id": "klMSrcpLZmQy",
        "outputId": "33c243e8-e234-4314-ac55-87f3d0cf2c7e"
      },
      "execution_count": 26,
      "outputs": [
        {
          "output_type": "stream",
          "name": "stdout",
          "text": [
            "Enter a string :@mahesh\n",
            "The string contains special characters.\n"
          ]
        }
      ]
    }
  ]
}