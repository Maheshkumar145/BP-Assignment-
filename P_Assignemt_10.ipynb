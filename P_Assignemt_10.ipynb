{
  "nbformat": 4,
  "nbformat_minor": 0,
  "metadata": {
    "colab": {
      "provenance": [],
      "authorship_tag": "ABX9TyOJLX6rw449sYiiYOQE3u2u",
      "include_colab_link": true
    },
    "kernelspec": {
      "name": "python3",
      "display_name": "Python 3"
    },
    "language_info": {
      "name": "python"
    }
  },
  "cells": [
    {
      "cell_type": "markdown",
      "metadata": {
        "id": "view-in-github",
        "colab_type": "text"
      },
      "source": [
        "<a href=\"https://colab.research.google.com/github/Maheshkumar145/BP-Assignment-/blob/main/P_Assignemt_10.ipynb\" target=\"_parent\"><img src=\"https://colab.research.google.com/assets/colab-badge.svg\" alt=\"Open In Colab\"/></a>"
      ]
    },
    {
      "cell_type": "markdown",
      "source": [
        "**1.\tWrite a Python program to find sum of elements in list?**"
      ],
      "metadata": {
        "id": "UWUbIXtc7w7i"
      }
    },
    {
      "cell_type": "code",
      "source": [
        "l = [1,2,3,4,5] \n",
        "summation = sum(l)\n",
        "print(summation)"
      ],
      "metadata": {
        "colab": {
          "base_uri": "https://localhost:8080/"
        },
        "id": "Mg9qsHvb809o",
        "outputId": "2e08f959-0d5f-4109-b397-43ba1b2e5325"
      },
      "execution_count": null,
      "outputs": [
        {
          "output_type": "stream",
          "name": "stdout",
          "text": [
            "15\n"
          ]
        }
      ]
    },
    {
      "cell_type": "code",
      "source": [
        "l = [int(input()) for i in range(int(input(\"no,of elements in list: \")))]\n",
        "summation = sum(l)\n",
        "print(\"sum of numbers :\",summation)"
      ],
      "metadata": {
        "colab": {
          "base_uri": "https://localhost:8080/"
        },
        "id": "BDWaenTh-Wph",
        "outputId": "9f1e66c8-2d34-49ab-b474-5c7ec3aadb69"
      },
      "execution_count": null,
      "outputs": [
        {
          "output_type": "stream",
          "name": "stdout",
          "text": [
            "no,of elements in list: 5\n",
            "10\n",
            "23\n",
            "63\n",
            "19\n",
            "20\n",
            "sum of numbers : 135\n"
          ]
        }
      ]
    },
    {
      "cell_type": "markdown",
      "source": [
        "**2.\tWrite a Python program to  Multiply all numbers in the list?**"
      ],
      "metadata": {
        "id": "uCmyEn24726q"
      }
    },
    {
      "cell_type": "code",
      "source": [
        "import numpy as np\n",
        "l = [1,2,3,4,5] \n",
        "product = np.prod(l)\n",
        "print(product)"
      ],
      "metadata": {
        "colab": {
          "base_uri": "https://localhost:8080/"
        },
        "id": "Ep6hLTdpBS8y",
        "outputId": "31ccc920-fb48-4536-98f0-ff3cc25346d4"
      },
      "execution_count": null,
      "outputs": [
        {
          "output_type": "stream",
          "name": "stdout",
          "text": [
            "120\n"
          ]
        }
      ]
    },
    {
      "cell_type": "markdown",
      "source": [
        "**3.\tWrite a Python program to find smallest number in a list?**"
      ],
      "metadata": {
        "id": "LTCyhww379LY"
      }
    },
    {
      "cell_type": "code",
      "source": [
        "l = [1,10,8,3,5] \n",
        "print(\"smallest number :\",min(l))"
      ],
      "metadata": {
        "colab": {
          "base_uri": "https://localhost:8080/"
        },
        "id": "NJarCN9cDiES",
        "outputId": "b5f0e100-f027-4b37-ab30-7d65b97bed67"
      },
      "execution_count": null,
      "outputs": [
        {
          "output_type": "stream",
          "name": "stdout",
          "text": [
            "smallest number : 1\n"
          ]
        }
      ]
    },
    {
      "cell_type": "markdown",
      "source": [
        "**4.\tWrite a Python program to find largest number in a list?**"
      ],
      "metadata": {
        "id": "4zR78toz8Cag"
      }
    },
    {
      "cell_type": "code",
      "source": [
        "l = [1,10,8,3,5] \n",
        "print(\"largest number :\",max(l))"
      ],
      "metadata": {
        "colab": {
          "base_uri": "https://localhost:8080/"
        },
        "id": "-G9o3bWREjpD",
        "outputId": "7a38e396-91b5-4dc5-c0cf-25ca50efcd97"
      },
      "execution_count": null,
      "outputs": [
        {
          "output_type": "stream",
          "name": "stdout",
          "text": [
            "largest number : 10\n"
          ]
        }
      ]
    },
    {
      "cell_type": "markdown",
      "source": [
        "**5.\tWrite a Python program to find second largest number in a list?**"
      ],
      "metadata": {
        "id": "KWqmehcL8J6w"
      }
    },
    {
      "cell_type": "code",
      "source": [
        "l = [int(input()) for i in range(int(input(\"no,of elements in list: \")))]\n",
        "#l = [1,10,8,3,5] \n",
        "new_list=sorted(l)\n",
        "print(new_list)\n",
        "#X = max(new_list)\n",
        "#print(X)\n",
        "print(\"Second largest element is:\", new_list[-2])"
      ],
      "metadata": {
        "colab": {
          "base_uri": "https://localhost:8080/"
        },
        "id": "cRbca694Ffli",
        "outputId": "81bfcc5f-6935-4bcb-c4cb-816a9c17f901"
      },
      "execution_count": null,
      "outputs": [
        {
          "output_type": "stream",
          "name": "stdout",
          "text": [
            "no,of elements in list: 5\n",
            "1\n",
            "10\n",
            "8\n",
            "3\n",
            "5\n",
            "[1, 3, 5, 8, 10]\n",
            "Second largest element is: 8\n"
          ]
        }
      ]
    },
    {
      "cell_type": "markdown",
      "source": [
        "\n",
        "**6.\tWrite a Python program to find N largest elements from a list?**"
      ],
      "metadata": {
        "id": "d7L6Ug1J8MmI"
      }
    },
    {
      "cell_type": "code",
      "source": [
        "l = [int(input()) for i in range(int(input(\"no,of elements in list: \")))]\n",
        "N=int(input(\"Enter Nth number : \"))\n",
        "new_list=sorted(l)\n",
        "print(new_list)\n",
        "print(\"Nth largest element is:\", new_list[N-1])"
      ],
      "metadata": {
        "colab": {
          "base_uri": "https://localhost:8080/"
        },
        "id": "3D-8iYPpUupc",
        "outputId": "19ab470f-867f-4260-a71f-53e4d583b56b"
      },
      "execution_count": null,
      "outputs": [
        {
          "output_type": "stream",
          "name": "stdout",
          "text": [
            "no,of elements in list: 6\n",
            "18\n",
            "12\n",
            "28\n",
            "36\n",
            "16\n",
            "8\n",
            "Enter Nth number : 4\n",
            "[8, 12, 16, 18, 28, 36]\n",
            "Nth largest element is: 18\n"
          ]
        }
      ]
    },
    {
      "cell_type": "markdown",
      "source": [
        "**7.\tWrite a Python program to print even numbers in a list?**"
      ],
      "metadata": {
        "id": "9rzABFPc8STg"
      }
    },
    {
      "cell_type": "code",
      "source": [
        "l = [int(input()) for i in range(int(input(\"no,of elements in list: \")))]\n",
        "for n in l:\n",
        "  if n%2==0:\n",
        "    print(n,end=' ')"
      ],
      "metadata": {
        "id": "hZtxAM8AWYSB",
        "colab": {
          "base_uri": "https://localhost:8080/"
        },
        "outputId": "25f4a5f9-a266-4c00-e05a-2133b317ff81"
      },
      "execution_count": 3,
      "outputs": [
        {
          "output_type": "stream",
          "name": "stdout",
          "text": [
            "no,of elements in list: 6\n",
            "2\n",
            "53\n",
            "31\n",
            "45\n",
            "32\n",
            "56\n",
            "2 32 56 "
          ]
        }
      ]
    },
    {
      "cell_type": "markdown",
      "source": [
        "**8.\tWrite a Python program to print odd numbers in a List?**"
      ],
      "metadata": {
        "id": "wS19kT6H8cfA"
      }
    },
    {
      "cell_type": "code",
      "source": [
        "l = [int(input()) for i in range(int(input(\"no,of elements in list: \")))]\n",
        "for n in l:\n",
        "  if n%2!=0:\n",
        "    print(n,end=' ')"
      ],
      "metadata": {
        "colab": {
          "base_uri": "https://localhost:8080/"
        },
        "id": "KaW9QM-C8E5j",
        "outputId": "6985e11a-cf6b-4ff8-f011-d5abec732dfb"
      },
      "execution_count": 2,
      "outputs": [
        {
          "output_type": "stream",
          "name": "stdout",
          "text": [
            "no,of elements in list: 5\n",
            "23\n",
            "24\n",
            "25\n",
            "27\n",
            "30\n",
            "23 25 27 "
          ]
        }
      ]
    },
    {
      "cell_type": "markdown",
      "source": [
        "**9.\tWrite a Python program to Remove empty List from List?**"
      ],
      "metadata": {
        "id": "DBJe7VZV8hcw"
      }
    },
    {
      "cell_type": "code",
      "source": [
        "def empty_list_remove(input_list):\n",
        "    new_list = []\n",
        "    for ele in input_list:\n",
        "        if ele:\n",
        "            new_list.append(ele)\n",
        "    return new_list\n",
        "input_list = [5, 6, [], 3, [], [], 9]\n",
        "print(f\"The original list is : {input_list}\")\n",
        "print(f\"List after empty list removal : {empty_list_remove(input_list)}\")"
      ],
      "metadata": {
        "colab": {
          "base_uri": "https://localhost:8080/"
        },
        "id": "zgRiTZDiDXSA",
        "outputId": "b848eceb-2c51-4c52-b988-6e1ecf1670d1"
      },
      "execution_count": 5,
      "outputs": [
        {
          "output_type": "stream",
          "name": "stdout",
          "text": [
            "The original list is : [5, 6, [], 3, [], [], 9]\n",
            "List after empty list removal : [5, 6, 3, 9]\n"
          ]
        }
      ]
    },
    {
      "cell_type": "markdown",
      "source": [
        "**10.\tWrite a Python program to Cloning or Copying a list?**"
      ],
      "metadata": {
        "id": "gHhMhlkz8mQw"
      }
    },
    {
      "cell_type": "code",
      "source": [
        "import copy as cp\n",
        "l1 = [1,2,3,4,5]\n",
        "l2 = cp.copy(l1)\n",
        "print(l2)"
      ],
      "metadata": {
        "colab": {
          "base_uri": "https://localhost:8080/"
        },
        "id": "WEX50BFUErhi",
        "outputId": "625e11a1-6b3e-4c6b-bea6-4297c3b37d40"
      },
      "execution_count": 8,
      "outputs": [
        {
          "output_type": "stream",
          "name": "stdout",
          "text": [
            "[1, 2, 3, 4, 5]\n"
          ]
        }
      ]
    },
    {
      "cell_type": "markdown",
      "source": [
        "**11.\tWrite a Python program to Count occurrences of an element in a list?**"
      ],
      "metadata": {
        "id": "x2c8ozY47rj7"
      }
    },
    {
      "cell_type": "code",
      "source": [
        "l=[]\n",
        "n=int(input(\"Enter size of list \"))\n",
        "for i in range(0,n):\n",
        "    x=int(input(\"Enter element of list \"))\n",
        "    l.append(x)\n",
        "print(\"Original list: \",l)\n",
        "n=int(input(\"Enter element to be checked list: \"))\n",
        "print(n,\" has occurred \",l.count(n),\"times\")"
      ],
      "metadata": {
        "colab": {
          "base_uri": "https://localhost:8080/"
        },
        "id": "YwlFU5asIEct",
        "outputId": "276e0412-ff2f-4111-9243-2a916fb96832"
      },
      "execution_count": 15,
      "outputs": [
        {
          "output_type": "stream",
          "name": "stdout",
          "text": [
            "Enter size of list 4\n",
            "Enter element of list 1\n",
            "Enter element of list 2\n",
            "Enter element of list 2\n",
            "Enter element of list 2\n",
            "Original list:  [1, 2, 2, 2]\n",
            "Enter element to be checked list: 2\n",
            "2  has occurred  3 times\n"
          ]
        }
      ]
    }
  ]
}