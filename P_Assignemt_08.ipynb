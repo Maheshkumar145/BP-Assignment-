{
  "nbformat": 4,
  "nbformat_minor": 0,
  "metadata": {
    "colab": {
      "provenance": [],
      "authorship_tag": "ABX9TyPzvwoDSSP3zcQ0hLgCgS0/",
      "include_colab_link": true
    },
    "kernelspec": {
      "name": "python3",
      "display_name": "Python 3"
    },
    "language_info": {
      "name": "python"
    }
  },
  "cells": [
    {
      "cell_type": "markdown",
      "metadata": {
        "id": "view-in-github",
        "colab_type": "text"
      },
      "source": [
        "<a href=\"https://colab.research.google.com/github/Maheshkumar145/BP-Assignment-/blob/main/P_Assignemt_8.ipynb\" target=\"_parent\"><img src=\"https://colab.research.google.com/assets/colab-badge.svg\" alt=\"Open In Colab\"/></a>"
      ]
    },
    {
      "cell_type": "markdown",
      "source": [
        "**1.\tWrite a Python Program to Add Two Matrices?**"
      ],
      "metadata": {
        "id": "qwWW_DLzFoQp"
      }
    },
    {
      "cell_type": "code",
      "execution_count": 11,
      "metadata": {
        "colab": {
          "base_uri": "https://localhost:8080/"
        },
        "id": "G4GF8-mDEYDq",
        "outputId": "1ae37f38-7416-4e29-8331-44868bb01bd9"
      },
      "outputs": [
        {
          "output_type": "stream",
          "name": "stdout",
          "text": [
            "[11, 22, 33]\n",
            "[22, 33, 44]\n",
            "[33, 44, 55]\n"
          ]
        }
      ],
      "source": [
        "A = [[1,2,3],[2,3,4],[3,4,5]]\n",
        "B = [[10,20,30],[20,30,40],[30,40,50]]\n",
        "Result=[[0,0,0],[0,0,0],[0,0,0]]\n",
        "for i in range(len(A)):\n",
        "  for j in range(len(A[0])):\n",
        "    #print(A[0])\n",
        "    Result[i][j] = A[i][j]+B[i][j]\n",
        "for r in Result:\n",
        "  print(r)"
      ]
    },
    {
      "cell_type": "markdown",
      "source": [
        "**2.\tWrite a Python Program to Multiply Two Matrices?**"
      ],
      "metadata": {
        "id": "nzKiYb8QFgi6"
      }
    },
    {
      "cell_type": "code",
      "source": [
        "A = [[1,2,3],[2,3,4],[3,4,5]]\n",
        "B = [[10,20,30],[20,30,40],[30,40,50]]\n",
        "Result=[[0,0,0],[0,0,0],[0,0,0]]\n",
        "for i in range(len(A)):\n",
        "  for j in range(len(B[0])):\n",
        "    for k in range(len(B)):\n",
        "    #print(A[0])\n",
        "      Result[i][j] += A[i][k]*B[k][j]\n",
        "for r in Result:\n",
        "  print(r)"
      ],
      "metadata": {
        "colab": {
          "base_uri": "https://localhost:8080/"
        },
        "id": "-Ptq4BnGTjnk",
        "outputId": "66849ef1-2026-43a7-badf-03295f0e7802"
      },
      "execution_count": 14,
      "outputs": [
        {
          "output_type": "stream",
          "name": "stdout",
          "text": [
            "[140, 200, 260]\n",
            "[200, 290, 380]\n",
            "[260, 380, 500]\n"
          ]
        }
      ]
    },
    {
      "cell_type": "markdown",
      "source": [
        "**3.\tWrite a Python Program to Transpose a Matrix?**"
      ],
      "metadata": {
        "id": "Q1CSWTppFfY_"
      }
    },
    {
      "cell_type": "code",
      "source": [
        "A = [[1,2,3],[2,3,4],[3,4,5]]\n",
        "Result=[[0,0,0],[0,0,0],[0,0,0]]\n",
        "for i in range(len(A)):\n",
        "  for j in range(len(A[0])):\n",
        "    Result[j][i]=A[i][j]\n",
        "for r in Result:\n",
        "  print(r)"
      ],
      "metadata": {
        "colab": {
          "base_uri": "https://localhost:8080/"
        },
        "id": "ZXyAVliOZ_gm",
        "outputId": "cc0a0e6d-27f5-40ac-a5d4-8123c0388d75"
      },
      "execution_count": 15,
      "outputs": [
        {
          "output_type": "stream",
          "name": "stdout",
          "text": [
            "[1, 2, 3]\n",
            "[2, 3, 4]\n",
            "[3, 4, 5]\n"
          ]
        }
      ]
    },
    {
      "cell_type": "markdown",
      "source": [
        "**4.\tWrite a Python Program to Sort Words in Alphabetic Order?**"
      ],
      "metadata": {
        "id": "9AqsBhoSFb0G"
      }
    },
    {
      "cell_type": "code",
      "source": [
        "l = [\"j\",\"a\",\"g\",\"w\",\"e\"]\n",
        "new = sorted(l)\n",
        "print(new)"
      ],
      "metadata": {
        "colab": {
          "base_uri": "https://localhost:8080/"
        },
        "id": "4S34hmKMbRtn",
        "outputId": "e06d7f1d-40e0-4a2e-bf51-b4a8e5f7ba9b"
      },
      "execution_count": 16,
      "outputs": [
        {
          "output_type": "stream",
          "name": "stdout",
          "text": [
            "['a', 'e', 'g', 'j', 'w']\n"
          ]
        }
      ]
    },
    {
      "cell_type": "markdown",
      "source": [
        "**5.\tWrite a Python Program to Remove Punctuation From a String?**"
      ],
      "metadata": {
        "id": "UBwqvilHFZ4B"
      }
    },
    {
      "cell_type": "code",
      "source": [
        "import string\n",
        "l =\" a'sd'd.dnkj/nkn\"\n",
        "new = l.translate(str.maketrans('', '', string.punctuation))\n",
        "print(new)"
      ],
      "metadata": {
        "colab": {
          "base_uri": "https://localhost:8080/"
        },
        "id": "_8YjRIAob8pc",
        "outputId": "5c06c709-6339-41e7-8701-bf7c567499ff"
      },
      "execution_count": 19,
      "outputs": [
        {
          "output_type": "stream",
          "name": "stdout",
          "text": [
            " asdddnkjnkn\n"
          ]
        }
      ]
    }
  ]
}
