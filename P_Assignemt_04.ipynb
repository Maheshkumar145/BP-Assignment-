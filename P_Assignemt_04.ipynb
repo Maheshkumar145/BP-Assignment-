{
  "nbformat": 4,
  "nbformat_minor": 0,
  "metadata": {
    "colab": {
      "provenance": [],
      "authorship_tag": "ABX9TyP9U1e6IIFzGl3S+dSKyd3t",
      "include_colab_link": true
    },
    "kernelspec": {
      "name": "python3",
      "display_name": "Python 3"
    },
    "language_info": {
      "name": "python"
    }
  },
  "cells": [
    {
      "cell_type": "markdown",
      "metadata": {
        "id": "view-in-github",
        "colab_type": "text"
      },
      "source": [
        "<a href=\"https://colab.research.google.com/github/Maheshkumar145/BP-Assignment-/blob/main/P_Assignemt_4.ipynb\" target=\"_parent\"><img src=\"https://colab.research.google.com/assets/colab-badge.svg\" alt=\"Open In Colab\"/></a>"
      ]
    },
    {
      "cell_type": "markdown",
      "source": [
        "**1. Write a Python Program to Find the Factorial of a Number?**"
      ],
      "metadata": {
        "id": "XKtKAZg4KGNb"
      }
    },
    {
      "cell_type": "code",
      "execution_count": 9,
      "metadata": {
        "colab": {
          "base_uri": "https://localhost:8080/",
          "height": 0
        },
        "id": "BBay553LJlA5",
        "outputId": "11d18493-b0f2-47d6-e681-4ad42d58d715"
      },
      "outputs": [
        {
          "output_type": "stream",
          "name": "stdout",
          "text": [
            "enter a number = 5\n",
            "Factorial of the Number = 120\n"
          ]
        }
      ],
      "source": [
        "n = int(input(\"enter a number = \"))\n",
        "fact = 1\n",
        "if n>1:\n",
        "  for i in range(1,n+1):\n",
        "    fact = fact*i\n",
        "  print(\"Factorial of the Number =\",fact)\n",
        "elif n == 0:\n",
        "  print(\"Factorial of the Number = 1\")\n",
        "else:\n",
        "  print(\"Factorial of the Number = NA\")\n",
        "  "
      ]
    },
    {
      "cell_type": "markdown",
      "source": [
        "**2. Write a Python Program to Display the multiplication Table?**"
      ],
      "metadata": {
        "id": "U2fPMbKJPDpy"
      }
    },
    {
      "cell_type": "code",
      "source": [
        "n = int(input(\"enter a number = \"))\n",
        "for i in range(1,11):\n",
        "  product = n*i\n",
        "  print(n,\"*\",i,\"=\",product)"
      ],
      "metadata": {
        "colab": {
          "base_uri": "https://localhost:8080/",
          "height": 0
        },
        "id": "lObpeTy5PJB1",
        "outputId": "22c851cf-bce7-4982-cda9-ce51b56aa7cd"
      },
      "execution_count": 13,
      "outputs": [
        {
          "output_type": "stream",
          "name": "stdout",
          "text": [
            "enter a number = 10\n",
            "10 * 1 = 10\n",
            "10 * 2 = 20\n",
            "10 * 3 = 30\n",
            "10 * 4 = 40\n",
            "10 * 5 = 50\n",
            "10 * 6 = 60\n",
            "10 * 7 = 70\n",
            "10 * 8 = 80\n",
            "10 * 9 = 90\n",
            "10 * 10 = 100\n"
          ]
        }
      ]
    },
    {
      "cell_type": "markdown",
      "source": [
        "**3.Write a Python Program to Print the Fibonacci sequence?**"
      ],
      "metadata": {
        "id": "Cj-o-ooDQn3B"
      }
    },
    {
      "cell_type": "code",
      "source": [
        "n = int(input(\"enter a number = \"))\n",
        "a = 0\n",
        "b = 1\n",
        "sum = 0\n",
        "count = 1\n",
        "print(\"Fibonacci series is: \", end = \" \")\n",
        "while(count <= n):\n",
        "  count = count + 1\n",
        "  sum = a + b\n",
        "  a = b\n",
        "  b = sum\n",
        "  print(a, end=\" \")"
      ],
      "metadata": {
        "colab": {
          "base_uri": "https://localhost:8080/",
          "height": 0
        },
        "id": "fstNZ65TQxsZ",
        "outputId": "07cc5325-cf4d-441d-9fe4-a997d4fd718a"
      },
      "execution_count": 18,
      "outputs": [
        {
          "output_type": "stream",
          "name": "stdout",
          "text": [
            "enter a number = 10\n",
            "Fibonacci series is:  1 1 2 3 5 8 13 21 34 55 "
          ]
        }
      ]
    },
    {
      "cell_type": "markdown",
      "source": [
        "**4. Write a Python Program to Check Armstrong Number?**"
      ],
      "metadata": {
        "id": "9AwIVEQLXpKl"
      }
    },
    {
      "cell_type": "code",
      "source": [
        "n= int(input(\"Enter a number: \"))\n",
        "sum = 0\n",
        "temp = n\n",
        "while temp > 0:\n",
        "   digit = temp % 10\n",
        "   sum += digit ** 3\n",
        "   temp //= 10\n",
        "   print(temp)\n",
        "\n",
        "if n == sum:\n",
        "   print(n,\"is an Armstrong number\")\n",
        "else:\n",
        "   print(n,\"is not an Armstrong number\")"
      ],
      "metadata": {
        "colab": {
          "base_uri": "https://localhost:8080/",
          "height": 0
        },
        "id": "sOrKMMr6XwjH",
        "outputId": "10b7fe96-e6b3-47d7-ccfa-d7a1184b37c1"
      },
      "execution_count": 25,
      "outputs": [
        {
          "output_type": "stream",
          "name": "stdout",
          "text": [
            "Enter a number: 216\n",
            "21\n",
            "2\n",
            "0\n",
            "216 is not an Armstrong number\n"
          ]
        }
      ]
    },
    {
      "cell_type": "markdown",
      "source": [
        "**5. Write a Python Program to Find Armstrong Number in an Interval?**"
      ],
      "metadata": {
        "id": "0O4YOMFfbaqm"
      }
    },
    {
      "cell_type": "code",
      "source": [
        "X = int(input(\"Enter lower range: \"))\n",
        "Y = int(input(\"Enter upper range: \")) \n",
        "for n in range(X,Y + 1):\n",
        "   sum = 0\n",
        "   temp = n\n",
        "   while temp > 0:\n",
        "       digit = temp % 10\n",
        "       sum += digit ** 3\n",
        "       temp //= 10\n",
        "   if n == sum:\n",
        "       print(n)"
      ],
      "metadata": {
        "colab": {
          "base_uri": "https://localhost:8080/",
          "height": 0
        },
        "id": "rgRL6-nUdklT",
        "outputId": "942c3f94-1da5-4a1c-f517-97db1be9523c"
      },
      "execution_count": 31,
      "outputs": [
        {
          "output_type": "stream",
          "name": "stdout",
          "text": [
            "Enter lower range: 100\n",
            "Enter upper range: 1000\n",
            "153\n",
            "370\n",
            "371\n",
            "407\n"
          ]
        }
      ]
    },
    {
      "cell_type": "markdown",
      "source": [
        "**6. Write a Python Program to Find the Sum of Natural Numbers?**"
      ],
      "metadata": {
        "id": "88A0kqB7e0GE"
      }
    },
    {
      "cell_type": "code",
      "source": [
        "n = int(input(\"Enter Number: \"))\n",
        "SUM = 0\n",
        "for i in range(0,n):\n",
        "  SUM = SUM + i\n",
        "  i = i+1\n",
        "print(\"sum of Natural Number =\",SUM)"
      ],
      "metadata": {
        "colab": {
          "base_uri": "https://localhost:8080/",
          "height": 0
        },
        "id": "3yzl5TFRe2eA",
        "outputId": "f68b61be-e473-4aa3-95a9-01615715576e"
      },
      "execution_count": 35,
      "outputs": [
        {
          "output_type": "stream",
          "name": "stdout",
          "text": [
            "Enter Number: 100\n",
            "sum of Natural Number = 4950\n"
          ]
        }
      ]
    }
  ]
}
