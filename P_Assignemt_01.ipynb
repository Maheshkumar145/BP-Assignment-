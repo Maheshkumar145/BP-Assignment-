{
  "nbformat": 4,
  "nbformat_minor": 0,
  "metadata": {
    "colab": {
      "provenance": [],
      "authorship_tag": "ABX9TyOepn5JZ7UUhRcNOpfqzIUk",
      "include_colab_link": true
    },
    "kernelspec": {
      "name": "python3",
      "display_name": "Python 3"
    },
    "language_info": {
      "name": "python"
    }
  },
  "cells": [
    {
      "cell_type": "markdown",
      "metadata": {
        "id": "view-in-github",
        "colab_type": "text"
      },
      "source": [
        "<a href=\"https://colab.research.google.com/github/Maheshkumar145/BP-Assignment-/blob/main/P_Assignemt_1.ipynb\" target=\"_parent\"><img src=\"https://colab.research.google.com/assets/colab-badge.svg\" alt=\"Open In Colab\"/></a>"
      ]
    },
    {
      "cell_type": "markdown",
      "source": [
        "**1.\tWrite a Python program to print \"Hello Python\"?**"
      ],
      "metadata": {
        "id": "xmNYc2Ujj0IV"
      }
    },
    {
      "cell_type": "code",
      "source": [
        "print(\"Hello Python\")"
      ],
      "metadata": {
        "colab": {
          "base_uri": "https://localhost:8080/"
        },
        "id": "5boCbAy3j87z",
        "outputId": "fefa0edc-3903-4763-9c2b-50b1fc042313"
      },
      "execution_count": 2,
      "outputs": [
        {
          "output_type": "stream",
          "name": "stdout",
          "text": [
            "Hello Python\n"
          ]
        }
      ]
    },
    {
      "cell_type": "markdown",
      "source": [
        "**2.\tWrite a Python program to do arithmetical operations addition and division?**"
      ],
      "metadata": {
        "id": "2bYrjRHukho1"
      }
    },
    {
      "cell_type": "code",
      "source": [
        "X = int(input(\"Enter a number = \"))\n",
        "Y = int(input(\"Enter a number = \"))\n",
        "ADD = X+Y\n",
        "DIV =X/Y\n",
        "print(\"addition = \",ADD)\n",
        "print(\"division = \",DIV)"
      ],
      "metadata": {
        "colab": {
          "base_uri": "https://localhost:8080/"
        },
        "id": "xNuZ8YCekosj",
        "outputId": "d38f5c95-c022-44e8-eafc-58547244eabc"
      },
      "execution_count": 4,
      "outputs": [
        {
          "output_type": "stream",
          "name": "stdout",
          "text": [
            "Enter a number = 10\n",
            "Enter a number = 2\n",
            "addition =  12\n",
            "division =  5.0\n"
          ]
        }
      ]
    },
    {
      "cell_type": "markdown",
      "source": [
        "**3.\tWrite a Python program to find the area of a triangle?**"
      ],
      "metadata": {
        "id": "VO5gF2edmBrj"
      }
    },
    {
      "cell_type": "code",
      "source": [
        "B = int(input(\"Enter base  = \"))\n",
        "H = int(input(\"Enter height = \"))\n",
        "AREA = 1/2 *B*H\n",
        "print(\"Area of triangle = \",AREA)"
      ],
      "metadata": {
        "colab": {
          "base_uri": "https://localhost:8080/"
        },
        "id": "CZaoFp_3mZ87",
        "outputId": "9c4808cc-88f9-4819-ce18-4d84f6d95eaf"
      },
      "execution_count": 5,
      "outputs": [
        {
          "output_type": "stream",
          "name": "stdout",
          "text": [
            "Enter base  = 5\n",
            "Enter height = 2\n",
            "Area of triangle =  5.0\n"
          ]
        }
      ]
    },
    {
      "cell_type": "markdown",
      "source": [
        "**4.\tWrite a Python program to swap two variables?**"
      ],
      "metadata": {
        "id": "pxHiK8nPnKsb"
      }
    },
    {
      "cell_type": "code",
      "source": [
        "X = int(input(\"Enter a number = \"))\n",
        "Y = int(input(\"Enter a number = \"))\n",
        "V = 0\n",
        "V = X\n",
        "X = Y\n",
        "Y = V\n",
        "print(X)\n",
        "print(Y)"
      ],
      "metadata": {
        "colab": {
          "base_uri": "https://localhost:8080/"
        },
        "id": "TlQOGHVsnPnL",
        "outputId": "fb9d4fb2-69cd-44d1-fe9f-f08a404de2fb"
      },
      "execution_count": 6,
      "outputs": [
        {
          "output_type": "stream",
          "name": "stdout",
          "text": [
            "Enter a number = 2\n",
            "Enter a number = 3\n",
            "3\n",
            "2\n"
          ]
        }
      ]
    },
    {
      "cell_type": "markdown",
      "source": [
        "**5.\tWrite a Python program to generate a random number?**"
      ],
      "metadata": {
        "id": "LBqGTwa1n2Z6"
      }
    },
    {
      "cell_type": "code",
      "source": [
        "import random\n",
        "X = random.randint(0,1000)\n",
        "print(X)"
      ],
      "metadata": {
        "colab": {
          "base_uri": "https://localhost:8080/"
        },
        "id": "f-HaRTdWn6tS",
        "outputId": "e3e24fa3-50e2-4282-a9b0-c6a63defe433"
      },
      "execution_count": 9,
      "outputs": [
        {
          "output_type": "stream",
          "name": "stdout",
          "text": [
            "845\n"
          ]
        }
      ]
    },
    {
      "cell_type": "code",
      "source": [
        "import random\n",
        "X = random.random()\n",
        "print(X)"
      ],
      "metadata": {
        "colab": {
          "base_uri": "https://localhost:8080/"
        },
        "id": "ThAJRZ43op5K",
        "outputId": "3a4d26c7-4eb6-4428-e5f2-7edc478c3e62"
      },
      "execution_count": 10,
      "outputs": [
        {
          "output_type": "stream",
          "name": "stdout",
          "text": [
            "0.17496730085972134\n"
          ]
        }
      ]
    }
  ]
}
