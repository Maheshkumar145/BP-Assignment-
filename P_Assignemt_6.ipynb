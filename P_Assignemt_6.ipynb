{
  "nbformat": 4,
  "nbformat_minor": 0,
  "metadata": {
    "colab": {
      "provenance": [],
      "authorship_tag": "ABX9TyOi5/bvaIV+78R8clr8E8/n",
      "include_colab_link": true
    },
    "kernelspec": {
      "name": "python3",
      "display_name": "Python 3"
    },
    "language_info": {
      "name": "python"
    }
  },
  "cells": [
    {
      "cell_type": "markdown",
      "metadata": {
        "id": "view-in-github",
        "colab_type": "text"
      },
      "source": [
        "<a href=\"https://colab.research.google.com/github/Maheshkumar145/BP-Assignment-/blob/main/P_Assignemt_6.ipynb\" target=\"_parent\"><img src=\"https://colab.research.google.com/assets/colab-badge.svg\" alt=\"Open In Colab\"/></a>"
      ]
    },
    {
      "cell_type": "markdown",
      "source": [
        "**1.\tWrite a Python Program to Display Fibonacci Sequence Using Recursion?**"
      ],
      "metadata": {
        "id": "LrC0TUDYf6Fi"
      }
    },
    {
      "cell_type": "code",
      "execution_count": null,
      "metadata": {
        "id": "L5oTXt12V0KU",
        "colab": {
          "base_uri": "https://localhost:8080/"
        },
        "outputId": "39632c53-2e71-48b8-9a4d-82e1613c1e04"
      },
      "outputs": [
        {
          "output_type": "stream",
          "name": "stdout",
          "text": [
            "Number of terms: 10\n",
            "0\n",
            "1\n",
            "1\n",
            "2\n",
            "3\n",
            "5\n",
            "8\n",
            "13\n",
            "21\n",
            "34\n"
          ]
        }
      ],
      "source": [
        "n = int(input(\"Number of terms: \")) \n",
        "def fibo(n):  \n",
        "   if n <= 1:  \n",
        "       return n  \n",
        "   else:  \n",
        "       return(fibo(n-1) + fibo(n-2))  \n",
        "for i in range(n):    \n",
        "  if n <= 0:  \n",
        "    print(\"Plese enter a positive integer\")  \n",
        "  else:  \n",
        "    print(fibo(i)) "
      ]
    },
    {
      "cell_type": "markdown",
      "source": [
        "**2.\tWrite a Python Program to Find Factorial of Number Using Recursion?**"
      ],
      "metadata": {
        "id": "NwmkHF8xANqt"
      }
    },
    {
      "cell_type": "code",
      "source": [
        "n = int(input(\"Number of terms: \")) \n",
        "def fact(n):\n",
        "  if n<=1:\n",
        "    return n\n",
        "  else:\n",
        "    return n*fact(n-1)\n",
        "if n == 0:\n",
        "  print(\"1\")\n",
        "elif n<1:\n",
        "  print(\"enter +ve number\")\n",
        "else:\n",
        "  print(\"factorial of number =\",fact(n))"
      ],
      "metadata": {
        "id": "vAUs32TIATYM",
        "colab": {
          "base_uri": "https://localhost:8080/",
          "height": 0
        },
        "outputId": "d61c7a4e-7cc3-49fe-8781-6cd16212dc24"
      },
      "execution_count": 6,
      "outputs": [
        {
          "output_type": "stream",
          "name": "stdout",
          "text": [
            "Number of terms: 6\n",
            "factorial of number = 720\n"
          ]
        }
      ]
    },
    {
      "cell_type": "markdown",
      "source": [
        "**3.\tWrite a Python Program to calculate your Body Mass Index?**"
      ],
      "metadata": {
        "id": "dqUrOAgoC6uu"
      }
    },
    {
      "cell_type": "code",
      "source": [
        "H = int(input(\"height in cms: \")) \n",
        "W = int(input(\"weight in kgs: \")) \n",
        "BMI = W/((H/100)**2)\n",
        "print(\"BODY MASS INDES = \",BMI)\n",
        "if BMI <= 18.4:\n",
        "    print(\"You are underweight.\")\n",
        "elif BMI <= 24.9:\n",
        "    print(\"You are healthy.\")\n",
        "elif BMI <= 29.9:\n",
        "    print(\"You are over weight.\")\n",
        "elif BMI <= 34.9:\n",
        "    print(\"You are severely over weight.\")\n",
        "elif BMI <= 39.9:\n",
        "    print(\"You are obese.\")\n",
        "else:\n",
        "    print(\"You are severely obese.\")"
      ],
      "metadata": {
        "colab": {
          "base_uri": "https://localhost:8080/",
          "height": 0
        },
        "id": "B8_2D-piC-yj",
        "outputId": "5bec9101-2e18-44fd-9790-b7a79b12c2fd"
      },
      "execution_count": 8,
      "outputs": [
        {
          "output_type": "stream",
          "name": "stdout",
          "text": [
            "height in cms: 168\n",
            "weight in kgs: 67\n",
            "BODY MASS INDES =  23.738662131519277\n",
            "You are healthy.\n"
          ]
        }
      ]
    },
    {
      "cell_type": "markdown",
      "source": [
        "**4.\tWrite a Python Program to calculate the natural logarithm of any number?**"
      ],
      "metadata": {
        "id": "rsVnppsQFfOr"
      }
    },
    {
      "cell_type": "code",
      "source": [
        "import math\n",
        "print (\"Natural logarithm of 14 is : \", end=\"\")\n",
        "print (math.log(14))"
      ],
      "metadata": {
        "colab": {
          "base_uri": "https://localhost:8080/",
          "height": 0
        },
        "id": "VkpViL1yFubq",
        "outputId": "0be9eadb-b8d5-42fe-d536-a7b822e9918f"
      },
      "execution_count": 9,
      "outputs": [
        {
          "output_type": "stream",
          "name": "stdout",
          "text": [
            "Natural logarithm of 14 is : 2.6390573296152584\n"
          ]
        }
      ]
    },
    {
      "cell_type": "code",
      "source": [
        "import math\n",
        "print(\"Natural logarithm base 10 of 14 is :\",end=\"\")\n",
        "print(math.log(14,10))     #log(a,base)"
      ],
      "metadata": {
        "colab": {
          "base_uri": "https://localhost:8080/",
          "height": 0
        },
        "id": "J30wD2BdGwmJ",
        "outputId": "a8ce6c1f-5c03-4ee4-a9e0-f097382e390f"
      },
      "execution_count": 10,
      "outputs": [
        {
          "output_type": "stream",
          "name": "stdout",
          "text": [
            "Natural logarithm base 10 of 14 is :1.1461280356782377\n"
          ]
        }
      ]
    },
    {
      "cell_type": "markdown",
      "source": [
        "**5.\tWrite a Python Program for cube sum of first n natural numbers?**"
      ],
      "metadata": {
        "id": "yZU9tJYxHUvh"
      }
    },
    {
      "cell_type": "code",
      "source": [
        "n = int(input(\"enter a number : \")) \n",
        "SUM=0\n",
        "for i in range(1,n+1):\n",
        "  SUM=SUM+i**3\n",
        "  i=i+1\n",
        "print(SUM)"
      ],
      "metadata": {
        "colab": {
          "base_uri": "https://localhost:8080/",
          "height": 0
        },
        "id": "D88SWAjVHWLT",
        "outputId": "88071f79-0ee1-4404-c063-085908af69b3"
      },
      "execution_count": 14,
      "outputs": [
        {
          "output_type": "stream",
          "name": "stdout",
          "text": [
            "enter a number : 10\n",
            "3025\n"
          ]
        }
      ]
    }
  ]
}