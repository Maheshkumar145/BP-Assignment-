{
  "nbformat": 4,
  "nbformat_minor": 0,
  "metadata": {
    "colab": {
      "provenance": [],
      "authorship_tag": "ABX9TyOVXk3eI6+cdfeeYkrzZ1A2",
      "include_colab_link": true
    },
    "kernelspec": {
      "name": "python3",
      "display_name": "Python 3"
    },
    "language_info": {
      "name": "python"
    }
  },
  "cells": [
    {
      "cell_type": "markdown",
      "metadata": {
        "id": "view-in-github",
        "colab_type": "text"
      },
      "source": [
        "<a href=\"https://colab.research.google.com/github/Maheshkumar145/BP-Assignment-/blob/main/Assignemt_6.ipynb\" target=\"_parent\"><img src=\"https://colab.research.google.com/assets/colab-badge.svg\" alt=\"Open In Colab\"/></a>"
      ]
    },
    {
      "cell_type": "markdown",
      "source": [
        "**1. What are escape characters, and how do you use them?**\n",
        "\n",
        "**Ans**:\n",
        "-Escape character allow you to include special characters in strings. To do this, simply add a backslash () before the character you want to escape.\n",
        "\n",
        "-Code for example:\n",
        "\n",
        "s = 'Hello, what's upp?'\n",
        "\n",
        "print(s)"
      ],
      "metadata": {
        "id": "Atpk7bqMBRDk"
      }
    },
    {
      "cell_type": "markdown",
      "source": [
        "**2. What do the escape characters n and t stand for?**\n",
        "\n",
        "**Ans**:\n",
        "\\n : stand for new line characters, will move values or object next to \\n to next line.\n",
        "\n",
        "\\t: stand for tab, will move values or object next to \\n to tab space."
      ],
      "metadata": {
        "id": "el8_u9tkBZix"
      }
    },
    {
      "cell_type": "markdown",
      "source": [
        "**3. What is the way to include backslash characters in a string?**\n",
        "\n",
        "**Ans**:The \\ escape character will represent a backslash character."
      ],
      "metadata": {
        "id": "HCeE9j1mBfJq"
      }
    },
    {
      "cell_type": "markdown",
      "source": [
        "**4. The string \"Howl's Moving Castle\" is a correct value. Why isn't the single quote character in the word Howl's not escaped a problem?**\n",
        "\n",
        "**Ans:** String is enclosed between doble quote “ “ hence single quote in Howl’s is not escaped"
      ],
      "metadata": {
        "id": "Q1tIB71ABizT"
      }
    },
    {
      "cell_type": "markdown",
      "source": [
        "**5. How do you write a string of newlines if you don't want to use the n character?**\n",
        "\n",
        "**Ans**: With triple-quoted string literals, you can use actual newlines instead of n"
      ],
      "metadata": {
        "id": "LnC3i1eSBqdi"
      }
    },
    {
      "cell_type": "markdown",
      "source": [
        "**6. What are the values of the given expressions?**\n",
        "\n",
        "**'Hello, world!'[1]**\n",
        "\n",
        "**'Hello, world!'[0:5]**\n",
        "\n",
        "**'Hello, world!'[:5]**\n",
        "\n",
        "**'Hello, world!'[3:]**\n",
        "\n",
        "**Ans**:  'e' **,**'Hello'**,** 'Hello' **,** 'lo, world!'"
      ],
      "metadata": {
        "id": "_JBFzy1lBxoV"
      }
    },
    {
      "cell_type": "markdown",
      "source": [
        "**7. What are the values of the following expressions?**\n",
        "\n",
        "**'Hello'.upper()**\n",
        "\n",
        "**'Hello'.upper().isupper()**\n",
        "\n",
        "**'Hello'.upper().lower()**"
      ],
      "metadata": {
        "id": "At4KmHROB_qn"
      }
    },
    {
      "cell_type": "code",
      "source": [
        "'Hello'.upper()"
      ],
      "metadata": {
        "colab": {
          "base_uri": "https://localhost:8080/",
          "height": 36
        },
        "id": "vmaaKs1cG79c",
        "outputId": "e8b25931-9007-4780-8bbe-15e3d324def4"
      },
      "execution_count": 1,
      "outputs": [
        {
          "output_type": "execute_result",
          "data": {
            "text/plain": [
              "'HELLO'"
            ],
            "application/vnd.google.colaboratory.intrinsic+json": {
              "type": "string"
            }
          },
          "metadata": {},
          "execution_count": 1
        }
      ]
    },
    {
      "cell_type": "code",
      "source": [
        "'Hello'.upper().isupper()"
      ],
      "metadata": {
        "colab": {
          "base_uri": "https://localhost:8080/"
        },
        "id": "wNta9d_KHBEu",
        "outputId": "69f3dfbc-3665-4e50-b30f-dfa17a84c964"
      },
      "execution_count": 2,
      "outputs": [
        {
          "output_type": "execute_result",
          "data": {
            "text/plain": [
              "True"
            ]
          },
          "metadata": {},
          "execution_count": 2
        }
      ]
    },
    {
      "cell_type": "code",
      "source": [
        "'Hello'.upper().lower()"
      ],
      "metadata": {
        "colab": {
          "base_uri": "https://localhost:8080/",
          "height": 36
        },
        "id": "cXpSN9NFHDdJ",
        "outputId": "d5459e49-7d0c-42b6-933d-5f3fb8480cc2"
      },
      "execution_count": 3,
      "outputs": [
        {
          "output_type": "execute_result",
          "data": {
            "text/plain": [
              "'hello'"
            ],
            "application/vnd.google.colaboratory.intrinsic+json": {
              "type": "string"
            }
          },
          "metadata": {},
          "execution_count": 3
        }
      ]
    },
    {
      "cell_type": "markdown",
      "source": [
        "**8. What are the values of the following expressions?**\n",
        "\n",
        "**'Remember, remember, the fifth of July.'.split()**\n",
        "\n",
        "**'-'.join('There can only one.'.split())**"
      ],
      "metadata": {
        "id": "kCLrZ5kiCEhv"
      }
    },
    {
      "cell_type": "code",
      "source": [
        "'Remember, remember, the fifth of July.'.split()"
      ],
      "metadata": {
        "colab": {
          "base_uri": "https://localhost:8080/"
        },
        "id": "-r4cC7tJHbvs",
        "outputId": "68fc58f9-9527-4a86-86c7-4bbee22d30ec"
      },
      "execution_count": 4,
      "outputs": [
        {
          "output_type": "execute_result",
          "data": {
            "text/plain": [
              "['Remember,', 'remember,', 'the', 'fifth', 'of', 'July.']"
            ]
          },
          "metadata": {},
          "execution_count": 4
        }
      ]
    },
    {
      "cell_type": "code",
      "source": [
        "'-'.join('There can only one.'.split())"
      ],
      "metadata": {
        "colab": {
          "base_uri": "https://localhost:8080/",
          "height": 36
        },
        "id": "BtpxFS1QHgB-",
        "outputId": "474c8907-bbe0-44f6-9b90-edc3db58cebc"
      },
      "execution_count": 5,
      "outputs": [
        {
          "output_type": "execute_result",
          "data": {
            "text/plain": [
              "'There-can-only-one.'"
            ],
            "application/vnd.google.colaboratory.intrinsic+json": {
              "type": "string"
            }
          },
          "metadata": {},
          "execution_count": 5
        }
      ]
    },
    {
      "cell_type": "markdown",
      "source": [
        "**9. What are the methods for right-justifying, left-justifying, and centering a string?**\n",
        "\n",
        "**Ans**:Python string method rjust() returns the string right justified in a string of length width. Padding is done using the specified fillchar (default is a space). The original string is returned if width is less than len(s).\n",
        "\n",
        "str.rjust(width[, fillchar])\n",
        "\n",
        "method ljust() returns the string left justified in a string of length width. Padding is done using the specified fillchar (default is a space). The original string is returned if width is less than len(s).\n",
        "\n",
        "str.ljust(width[, fillchar])\n",
        "\n",
        "str.center(s, width[, fillchar]) -- This will center the string."
      ],
      "metadata": {
        "id": "AFlfLnL5BcN4"
      }
    },
    {
      "cell_type": "markdown",
      "source": [
        "**10. What is the best way to remove whitespace characters from the start or end?**\n",
        "\n",
        "**Ans**:To remove white spaces present at start and end of the string, we can use lstrip() and rstrip() function on the string to remove start and end whitespaces"
      ],
      "metadata": {
        "id": "dzf0vIprBPHY"
      }
    }
  ]
}
