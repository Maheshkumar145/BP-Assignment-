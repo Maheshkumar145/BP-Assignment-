{
  "cells": [
    {
      "cell_type": "markdown",
      "metadata": {
        "id": "view-in-github",
        "colab_type": "text"
      },
      "source": [
        "<a href=\"https://colab.research.google.com/github/Maheshkumar145/BP-Assignment-/blob/main/P_Assignemt_12.ipynb\" target=\"_parent\"><img src=\"https://colab.research.google.com/assets/colab-badge.svg\" alt=\"Open In Colab\"/></a>"
      ]
    },
    {
      "cell_type": "markdown",
      "metadata": {
        "id": "lI0TTUbF9jh2"
      },
      "source": [
        "**1.\tWrite a Python program to Extract Unique values dictionary values?**"
      ]
    },
    {
      "cell_type": "code",
      "execution_count": null,
      "metadata": {
        "colab": {
          "background_save": true,
          "base_uri": "https://localhost:8080/"
        },
        "id": "9Y5bceee-Abs",
        "outputId": "f7ae5fe6-d9b4-4ccc-82d0-0e08917306ee"
      },
      "outputs": [
        {
          "name": "stdout",
          "output_type": "stream",
          "text": [
            "The original dictionary is :  {'A': [1, 3, 5, 4], 'B': [4, 6, 8, 10], 'C': [6, 12, 4, 8], 'D': [5, 7, 2]}\n",
            "The unique values list is :  [1, 2, 3, 4, 5, 6, 7, 8, 10, 12]\n"
          ]
        }
      ],
      "source": [
        "dict1 = {'A' : [1, 3, 5, 4],'B' : [4, 6, 8, 10],'C' : [6, 12, 4 ,8],'D' : [5, 7, 2]}\n",
        "print(\"The original dictionary is : \" ,dict1)\n",
        "unq = list(sorted({ele for val in dict1.values() for ele in val}))\n",
        "print(\"The unique values list is : \" , unq)"
      ]
    },
    {
      "cell_type": "markdown",
      "metadata": {
        "id": "Lu9jdEud92Tr"
      },
      "source": [
        "**2.\tWrite a Python program to find the sum of all items in a dictionary?**"
      ]
    },
    {
      "cell_type": "code",
      "execution_count": null,
      "metadata": {
        "colab": {
          "base_uri": "https://localhost:8080/"
        },
        "id": "gg45YNc5V851",
        "outputId": "ac06ad40-1215-4b5b-e86a-1dc2752fdad0"
      },
      "outputs": [
        {
          "name": "stdout",
          "output_type": "stream",
          "text": [
            "sum of all items :  137\n"
          ]
        }
      ],
      "source": [
        "l={'A' : 10, 'B':30,'C':52, 'D':45}\n",
        "print(\"sum of all items : \",sum(l.values()))"
      ]
    },
    {
      "cell_type": "markdown",
      "metadata": {
        "id": "ma93NQ9G903T"
      },
      "source": [
        "**3.\tWrite a Python program to Merging two Dictionaries?**"
      ]
    },
    {
      "cell_type": "code",
      "execution_count": null,
      "metadata": {
        "colab": {
          "base_uri": "https://localhost:8080/"
        },
        "id": "leYeIqcsYdDG",
        "outputId": "0f25fddb-7353-4418-a9fd-51dabd4b8343"
      },
      "outputs": [
        {
          "name": "stdout",
          "output_type": "stream",
          "text": [
            "{'A': [1, 3, 5, 4], 'B': [4, 6, 8, 10], 'C': [6, 12, 4, 8], 'D': [5, 7, 2, 8]}\n"
          ]
        }
      ],
      "source": [
        "dict1 = {'A' : [1, 3, 5, 4],'B' : [4, 6, 8, 10]}\n",
        "dict2 = {'C' : [6, 12, 4 ,8],'D' : [5, 7, 2, 8]}\n",
        "merge = {**dict1,**dict2}\n",
        "print(merge)"
      ]
    },
    {
      "cell_type": "markdown",
      "metadata": {
        "id": "StyrVk7v9xqs"
      },
      "source": [
        "**4.\tWrite a Python program to convert key-values list to flat dictionary?**"
      ]
    },
    {
      "cell_type": "code",
      "execution_count": 3,
      "metadata": {
        "colab": {
          "base_uri": "https://localhost:8080/"
        },
        "id": "wnu6I-eru98s",
        "outputId": "60d942ab-266d-4cd2-ffd7-20c18df70ab2"
      },
      "outputs": [
        {
          "output_type": "stream",
          "name": "stdout",
          "text": [
            "{1: 'a', 2: 'b', 3: 'c', 4: 'd', 5: 'e'}\n"
          ]
        }
      ],
      "source": [
        "from itertools import product\n",
        "dict1={'num':[1,2,3,4,5],'alpha':['a','b','c','d','e']}\n",
        "req = dict(zip(dict1['num'],dict1['alpha']))\n",
        "print(req)"
      ]
    },
    {
      "cell_type": "markdown",
      "metadata": {
        "id": "gKn8ybRh9uLr"
      },
      "source": [
        "**5.\tWrite a Python program to insertion at the beginning in OrderedDict?**\n"
      ]
    },
    {
      "cell_type": "code",
      "source": [
        "from collections import OrderedDict\n",
        "dict_1 = OrderedDict([('1','a'),('2','b'),('3','c')])\n",
        "dict_2 = OrderedDict([('4','d')])\n",
        "new_dict = OrderedDict((list(dict_2.items()))+ (list(dict_1.items())))\n",
        "print(new_dict)"
      ],
      "metadata": {
        "colab": {
          "base_uri": "https://localhost:8080/"
        },
        "id": "zNSObnnR71z8",
        "outputId": "0d972725-9260-42f6-8419-06fb504eaeca"
      },
      "execution_count": 6,
      "outputs": [
        {
          "output_type": "stream",
          "name": "stdout",
          "text": [
            "OrderedDict([('4', 'd'), ('1', 'a'), ('2', 'b'), ('3', 'c')])\n"
          ]
        }
      ]
    },
    {
      "cell_type": "markdown",
      "metadata": {
        "id": "seYCqruq9qfk"
      },
      "source": [
        "**6.\tWrite a Python program to check order of character in string using OrderedDict()?**"
      ]
    },
    {
      "cell_type": "code",
      "source": [
        "from collections import OrderedDict  \n",
        "def checkOrder(input, pattern): \n",
        "    dict = OrderedDict.fromkeys(input)  \n",
        "    n = 0\n",
        "    for key,value in dict.items(): \n",
        "        if (key == pattern[n]): \n",
        "            n = n + 1\n",
        "        if (n == (len(pattern))): \n",
        "            return 'true'\n",
        "    return 'false'\n",
        "if __name__ == \"__main__\": \n",
        "    input = 'MAHESH'\n",
        "    pattern = 'MA'\n",
        "    print (checkOrder(input,pattern))"
      ],
      "metadata": {
        "colab": {
          "base_uri": "https://localhost:8080/"
        },
        "id": "ZSPRqarVEU69",
        "outputId": "4a904df7-c834-4aeb-9ab5-72ae3dec54f8"
      },
      "execution_count": 7,
      "outputs": [
        {
          "output_type": "stream",
          "name": "stdout",
          "text": [
            "true\n"
          ]
        }
      ]
    },
    {
      "cell_type": "markdown",
      "metadata": {
        "id": "3oZ3aaUs9mYE"
      },
      "source": [
        "**7.\tWrite a Python program to sort Python Dictionaries by Key or Value?**"
      ]
    },
    {
      "cell_type": "code",
      "execution_count": 8,
      "metadata": {
        "id": "xwDynQOLhYGn",
        "colab": {
          "base_uri": "https://localhost:8080/"
        },
        "outputId": "6e245192-9590-4b41-9b56-659e6f18e3e7"
      },
      "outputs": [
        {
          "output_type": "stream",
          "name": "stdout",
          "text": [
            "OrderedDict([('1', 'f'), ('2', 'd'), ('3', 'c'), ('4', 'b'), ('5', 'a'), ('6', 'e')])\n"
          ]
        }
      ],
      "source": [
        "from collections import OrderedDict\n",
        "dict_1 = OrderedDict([('5','a'),('4','b'),('3','c'),('1','f'),('6','e'),('2','d')])\n",
        "orderdict = OrderedDict(sorted(dict_1.items()))\n",
        "print(orderdict)"
      ]
    }
  ],
  "metadata": {
    "colab": {
      "provenance": [],
      "authorship_tag": "ABX9TyMNNBSDIs7NBj4bbWAo24jX",
      "include_colab_link": true
    },
    "kernelspec": {
      "display_name": "Python 3",
      "name": "python3"
    },
    "language_info": {
      "name": "python"
    }
  },
  "nbformat": 4,
  "nbformat_minor": 0
}