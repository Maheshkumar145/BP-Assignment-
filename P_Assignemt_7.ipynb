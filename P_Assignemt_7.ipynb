{
  "nbformat": 4,
  "nbformat_minor": 0,
  "metadata": {
    "colab": {
      "provenance": [],
      "authorship_tag": "ABX9TyN+xp1b2rbN+PJ6SUBrBqQP",
      "include_colab_link": true
    },
    "kernelspec": {
      "name": "python3",
      "display_name": "Python 3"
    },
    "language_info": {
      "name": "python"
    }
  },
  "cells": [
    {
      "cell_type": "markdown",
      "metadata": {
        "id": "view-in-github",
        "colab_type": "text"
      },
      "source": [
        "<a href=\"https://colab.research.google.com/github/Maheshkumar145/BP-Assignment-/blob/main/P_Assignemt_7.ipynb\" target=\"_parent\"><img src=\"https://colab.research.google.com/assets/colab-badge.svg\" alt=\"Open In Colab\"/></a>"
      ]
    },
    {
      "cell_type": "markdown",
      "source": [
        "**1.\tWrite a Python Program to find sum of array?**"
      ],
      "metadata": {
        "id": "Gb0KKOyLKCga"
      }
    },
    {
      "cell_type": "code",
      "execution_count": null,
      "metadata": {
        "colab": {
          "base_uri": "https://localhost:8080/"
        },
        "id": "uTDmHZ3WJ7KC",
        "outputId": "69fe8df0-68e8-4812-c229-808da6fbb231"
      },
      "outputs": [
        {
          "output_type": "stream",
          "name": "stdout",
          "text": [
            "sum of array = 150\n"
          ]
        }
      ],
      "source": [
        "arr = [10,20,30,40,50]\n",
        "print(\"sum of array =\",sum(arr))"
      ]
    },
    {
      "cell_type": "markdown",
      "source": [
        "**2.\tWrite a Python Program to find largest element in an array?**"
      ],
      "metadata": {
        "id": "lKy_AiZiMx4A"
      }
    },
    {
      "cell_type": "code",
      "source": [
        "arr = [10,20,80,40,95]\n",
        "print(\"largest in array =\",max(arr))"
      ],
      "metadata": {
        "colab": {
          "base_uri": "https://localhost:8080/"
        },
        "id": "giXb4-yvM1P_",
        "outputId": "3df840d3-86f4-4e86-9fc3-88169d445794"
      },
      "execution_count": null,
      "outputs": [
        {
          "output_type": "stream",
          "name": "stdout",
          "text": [
            "sum of array = 95\n"
          ]
        }
      ]
    },
    {
      "cell_type": "markdown",
      "source": [
        "**3.\tWrite a Python Program for array rotation?**"
      ],
      "metadata": {
        "id": "j_pV0bIvNNLP"
      }
    },
    {
      "cell_type": "code",
      "source": [
        "def rotateArray(a,d):\n",
        "    temp = []\n",
        "    n=len(a)\n",
        "    for i in range(d,n):\n",
        "        temp.append(a[i])\n",
        "    #print(a)\n",
        "    i = 0\n",
        "    for i in range (0,d):\n",
        "        temp.append(a[i])\n",
        "    #print(d)\n",
        "    a=temp.copy()\n",
        "    #print(a)\n",
        "    return a\n",
        " \n",
        "arr = [1, 2, 3, 4, 5, 6, 7]\n",
        "#print(\"Array after left rotation is: \", end=' ')\n",
        "print(rotateArray(arr, 3))"
      ],
      "metadata": {
        "id": "kwnjdxhiNMXv",
        "colab": {
          "base_uri": "https://localhost:8080/"
        },
        "outputId": "2f21b364-d3af-4b34-bd04-87f5e9c844df"
      },
      "execution_count": 21,
      "outputs": [
        {
          "output_type": "stream",
          "name": "stdout",
          "text": [
            "[4, 5, 6, 7, 1, 2, 3]\n"
          ]
        }
      ]
    },
    {
      "cell_type": "markdown",
      "source": [
        "**4.\tWrite a Python Program to Split the array and add the first part to the end?**"
      ],
      "metadata": {
        "id": "YvvR72zx1Ni1"
      }
    },
    {
      "cell_type": "code",
      "source": [
        "arr = [1,2,3,4,5,6]\n",
        "n = len(arr)\n",
        "x = arr[:1]\n",
        "y = arr[1:]\n",
        "y.extend(x)\n",
        "print(y)"
      ],
      "metadata": {
        "colab": {
          "base_uri": "https://localhost:8080/"
        },
        "id": "N89nYDiX1UeN",
        "outputId": "58183b2a-5041-453b-a802-7e8f5a5061a3"
      },
      "execution_count": 32,
      "outputs": [
        {
          "output_type": "stream",
          "name": "stdout",
          "text": [
            "[2, 3, 4, 5, 6, 1]\n"
          ]
        }
      ]
    },
    {
      "cell_type": "markdown",
      "source": [
        "**5.\tWrite a Python Program to check if given array is Monotonic?**"
      ],
      "metadata": {
        "id": "NGe58rG87zJV"
      }
    },
    {
      "cell_type": "code",
      "source": [
        "#a = [int(input()) for i in range(int(input(\"How many elements are in list : \")))]\n",
        "a = list(map(int, input().split()))\n",
        "n = len(a)\n",
        "if(all(a[i]<=a[i+1] for i in range(n-1)) or all(a[i]>=a[i+1] for i in range(n-1))):\n",
        "  print(\"array is monotomic\")\n",
        "else:\n",
        "  print(\"Not monotonic\")"
      ],
      "metadata": {
        "colab": {
          "base_uri": "https://localhost:8080/"
        },
        "id": "nxklt_2R9YZV",
        "outputId": "268d20c4-e65f-4f0c-da90-90731c9cc39e"
      },
      "execution_count": 46,
      "outputs": [
        {
          "output_type": "stream",
          "name": "stdout",
          "text": [
            "1 2 3  4  5\n",
            "array is monotomic\n"
          ]
        }
      ]
    }
  ]
}