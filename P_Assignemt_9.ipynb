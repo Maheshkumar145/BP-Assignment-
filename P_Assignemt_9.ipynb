{
  "nbformat": 4,
  "nbformat_minor": 0,
  "metadata": {
    "colab": {
      "provenance": [],
      "authorship_tag": "ABX9TyOOxs77c6Xa7Asxv3+66amm",
      "include_colab_link": true
    },
    "kernelspec": {
      "name": "python3",
      "display_name": "Python 3"
    },
    "language_info": {
      "name": "python"
    }
  },
  "cells": [
    {
      "cell_type": "markdown",
      "metadata": {
        "id": "view-in-github",
        "colab_type": "text"
      },
      "source": [
        "<a href=\"https://colab.research.google.com/github/Maheshkumar145/BP-Assignment-/blob/main/P_Assignemt_9.ipynb\" target=\"_parent\"><img src=\"https://colab.research.google.com/assets/colab-badge.svg\" alt=\"Open In Colab\"/></a>"
      ]
    },
    {
      "cell_type": "markdown",
      "source": [
        "**1.\tWrite a Python program to check if the given number is a Disarium Number?**\n",
        "\n",
        "\n",
        "\n",
        "\n",
        "\n",
        "\n",
        "\n",
        "\n",
        "\n"
      ],
      "metadata": {
        "id": "HzYA0u63dp1P"
      }
    },
    {
      "cell_type": "code",
      "source": [
        "n = int(input(\"Enter a Number: \")) \n",
        "sum = 0\n",
        "for i in range(len(str(n))):\n",
        "    sum = sum + (int(str(n)[i])**(i+1))\n",
        "    i=i+1\n",
        "#print(sum)\n",
        "if sum == n:\n",
        "  print(n)\n",
        "else:\n",
        "  print(\"not a disarium\")"
      ],
      "metadata": {
        "colab": {
          "base_uri": "https://localhost:8080/"
        },
        "id": "_2EbKy11o6Ml",
        "outputId": "88ace579-e723-4033-c618-fdc6186a3835"
      },
      "execution_count": null,
      "outputs": [
        {
          "output_type": "stream",
          "name": "stdout",
          "text": [
            "Enter a Number: 81\n",
            "not a disarium\n"
          ]
        }
      ]
    },
    {
      "cell_type": "markdown",
      "source": [
        "**2.\tWrite a Python program to print all disarium numbers between 1 to 100?**\n"
      ],
      "metadata": {
        "id": "jKbiUphNd-QN"
      }
    },
    {
      "cell_type": "code",
      "source": [
        "def Length(n):    \n",
        "    l = 0;    \n",
        "    while(n != 0):    \n",
        "        l = l + 1;    \n",
        "        n = n//10;    \n",
        "    return l;    \n",
        "     \n",
        "def sum(num):    \n",
        "    rem = sum = 0;    \n",
        "    len = Length(num);      \n",
        "    while(num > 0):    \n",
        "        rem = num%10;    \n",
        "        sum = sum + (rem**len);    \n",
        "        num = num//10;    \n",
        "        len = len - 1;    \n",
        "    return sum;    \n",
        "      \n",
        "result = 0;     \n",
        "print(\"Disarium numbers between 1 and 100 are\");    \n",
        "for i in range(1, 101):    \n",
        "    result = sum(i);       \n",
        "    if(result == i):    \n",
        "        print(i)"
      ],
      "metadata": {
        "colab": {
          "base_uri": "https://localhost:8080/"
        },
        "id": "e7Z_xHjGzEJA",
        "outputId": "7eb7bd61-8ef7-49cc-884b-fcfbfca743cb"
      },
      "execution_count": null,
      "outputs": [
        {
          "output_type": "stream",
          "name": "stdout",
          "text": [
            "Disarium numbers between 1 and 100 are\n",
            "1\n",
            "2\n",
            "3\n",
            "4\n",
            "5\n",
            "6\n",
            "7\n",
            "8\n",
            "9\n",
            "89\n"
          ]
        }
      ]
    },
    {
      "cell_type": "markdown",
      "source": [
        "**3.\tWrite a Python program to check if the given number is Happy Number?**"
      ],
      "metadata": {
        "id": "IcIFhN88d4d9"
      }
    },
    {
      "cell_type": "code",
      "source": [
        "n = int(input(\"Enter a Number: \")) \n",
        "num=n\n",
        "while n>=10:\n",
        "  sum=0\n",
        "  while n>0:\n",
        "    r = n%10\n",
        "    #print(r)\n",
        "    sum = sum +(r**2)\n",
        "    #print(sum)\n",
        "    n=n//10\n",
        "  n=sum\n",
        "  #print(n)\n",
        "if(n==1):\n",
        "  print(num,\"is a happy number\")\n",
        "else:\n",
        "  print(num,\"is not a happy number\" )"
      ],
      "metadata": {
        "colab": {
          "base_uri": "https://localhost:8080/"
        },
        "id": "yzuPi3k0RWE7",
        "outputId": "ea5e8949-1af2-4eba-bbaf-e82a92171c6f"
      },
      "execution_count": 12,
      "outputs": [
        {
          "output_type": "stream",
          "name": "stdout",
          "text": [
            "Enter a Number: 49\n",
            "49 is a happy number\n"
          ]
        }
      ]
    },
    {
      "cell_type": "markdown",
      "source": [
        "**4.\tWrite a Python program to print all happy numbers between 1 and 100?**"
      ],
      "metadata": {
        "id": "cnD2iv9bdw_l"
      }
    },
    {
      "cell_type": "code",
      "source": [
        "def happy(n):\n",
        "  r = 0\n",
        "  num = 0;    \n",
        "  while(n > 0):    \n",
        "    r = n%10;    \n",
        "    num = num + (r*r);    \n",
        "    n = n//10;\n",
        "  return num;\n",
        "lower = int(input(\"lower limit : \"))\n",
        "upper = int(input(\"upper limit : \"))\n",
        "for i in range(lower,upper+1):\n",
        "  num = i\n",
        "  while(num != 1 and num != 4):\n",
        "    num = happy(num)\n",
        "  if(num == 1):\n",
        "    print(i,end=\" \")"
      ],
      "metadata": {
        "colab": {
          "base_uri": "https://localhost:8080/"
        },
        "id": "zsyoZGVmXo2N",
        "outputId": "542f5836-b2fe-4fd9-ff39-c6768986a42f"
      },
      "execution_count": 15,
      "outputs": [
        {
          "output_type": "stream",
          "name": "stdout",
          "text": [
            "lower limit : 1\n",
            "upper limit : 100\n",
            "1 7 10 13 19 23 28 31 32 44 49 68 70 79 82 86 91 94 97 100 "
          ]
        }
      ]
    },
    {
      "cell_type": "markdown",
      "source": [
        "**5.\tWrite a Python program to determine whether the given number is a Harshad Number?**\n",
        "\n"
      ],
      "metadata": {
        "id": "B8Z1L2gmduX8"
      }
    },
    {
      "cell_type": "code",
      "source": [
        "n = int(input(\"Enter a Number: \")) \n",
        "sum=0\n",
        "x =n\n",
        "while x>0:\n",
        "  r = x%10\n",
        "  #print(r)\n",
        "  sum=sum + r\n",
        "  #print(sum)\n",
        "  x = x//10\n",
        "  #print(x)\n",
        "if n%sum ==0:\n",
        "  print(\"Harshad Number\")\n",
        "else:\n",
        "  print(\"try another\")"
      ],
      "metadata": {
        "colab": {
          "base_uri": "https://localhost:8080/"
        },
        "id": "08uQ6sTkn9ii",
        "outputId": "30e9767a-b02d-4aa9-c266-c5bdb3d2090c"
      },
      "execution_count": 25,
      "outputs": [
        {
          "output_type": "stream",
          "name": "stdout",
          "text": [
            "Enter a Number: 81\n",
            "Harshad Number\n"
          ]
        }
      ]
    },
    {
      "cell_type": "markdown",
      "source": [
        "**6.\tWrite a Python program to print all pronic numbers between 1 and 100?**"
      ],
      "metadata": {
        "id": "XZzEi3oMeeTS"
      }
    },
    {
      "cell_type": "code",
      "source": [
        "def isPronicNumber(num):    \n",
        "  flag = 0;       \n",
        "  for j in range(1, num+1): \n",
        "    if((j*(j+1)) == num):    \n",
        "      flag =1;    \n",
        "      break;    \n",
        "  return flag;       \n",
        "print(\"Pronic numbers between 1 and 100: \");    \n",
        "for i in range(1, 101):    \n",
        "    if(isPronicNumber(i)):    \n",
        "        print(i)"
      ],
      "metadata": {
        "colab": {
          "base_uri": "https://localhost:8080/"
        },
        "id": "O1-R8KGKuwt5",
        "outputId": "f6091671-b64b-4853-af7f-441905de2b58"
      },
      "execution_count": 31,
      "outputs": [
        {
          "output_type": "stream",
          "name": "stdout",
          "text": [
            "Pronic numbers between 1 and 100: \n",
            "2\n",
            "6\n",
            "12\n",
            "20\n",
            "30\n",
            "42\n",
            "56\n",
            "72\n",
            "90\n"
          ]
        }
      ]
    }
  ]
}